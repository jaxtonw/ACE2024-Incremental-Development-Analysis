{
 "cells": [
  {
   "cell_type": "code",
   "execution_count": null,
   "metadata": {},
   "outputs": [],
   "source": [
    "import pandas as pd\n",
    "import numpy as np\n",
    "\n",
    "# Visualization\n",
    "from matplotlib import pyplot as plt\n",
    "import seaborn as sns\n",
    "import itertools"
   ]
  },
  {
   "attachments": {},
   "cell_type": "markdown",
   "metadata": {},
   "source": [
    "### Plot Mid Scores over Assignment"
   ]
  },
  {
   "cell_type": "code",
   "execution_count": null,
   "metadata": {},
   "outputs": [],
   "source": [
    "mid_scores = pd.read_csv('./data/mid_scores.csv')\n",
    "mid_scores.sort_values('AssignmentID')"
   ]
  },
  {
   "cell_type": "code",
   "execution_count": null,
   "metadata": {},
   "outputs": [],
   "source": [
    "sns.scatterplot(data=mid_scores, x='AssignmentID', y='MID_Score', hue='SubjectID')"
   ]
  },
  {
   "cell_type": "code",
   "execution_count": null,
   "metadata": {},
   "outputs": [],
   "source": [
    "sns.scatterplot(data=mid_scores, x='MID_Score', y='AssignmentScore')\n",
    "plt.savefig('./images/AssignmentScore_MidScore.png')"
   ]
  },
  {
   "cell_type": "code",
   "execution_count": null,
   "metadata": {},
   "outputs": [],
   "source": [
    "mid_scores.columns"
   ]
  },
  {
   "cell_type": "code",
   "execution_count": null,
   "metadata": {},
   "outputs": [],
   "source": [
    "variables = filter(lambda v: v != 'Unnamed: 0', mid_scores.columns)\n",
    "pairs = list(itertools.combinations(variables, 2))\n",
    "\n",
    "fig, axs = plt.subplots(len(pairs) // 2, 2, figsize=(12,48))\n",
    "for col in range(len(pairs) // 2):\n",
    "    for row in range(2):\n",
    "        pair = pairs.pop(0)\n",
    "        ax = axs[col][row]\n",
    "        sns.scatterplot(data=mid_scores, x=pair[0], y=pair[1], hue='Incremental', ax=ax)\n",
    "        ax.set_title(f'{pair[0]} vs {pair[1]}')\n",
    "fig.tight_layout()"
   ]
  },
  {
   "cell_type": "code",
   "execution_count": null,
   "metadata": {},
   "outputs": [],
   "source": [
    "sns.boxplot(data=mid_scores, x='AssignmentID', y='MID_Score')"
   ]
  },
  {
   "cell_type": "code",
   "execution_count": null,
   "metadata": {},
   "outputs": [],
   "source": [
    "sns.countplot(data=mid_scores, x='AssignmentID')"
   ]
  }
 ],
 "metadata": {
  "kernelspec": {
   "display_name": "Keystroke",
   "language": "python",
   "name": "python3"
  },
  "language_info": {
   "codemirror_mode": {
    "name": "ipython",
    "version": 3
   },
   "file_extension": ".py",
   "mimetype": "text/x-python",
   "name": "python",
   "nbconvert_exporter": "python",
   "pygments_lexer": "ipython3",
   "version": "3.11.2"
  },
  "orig_nbformat": 4
 },
 "nbformat": 4,
 "nbformat_minor": 2
}
