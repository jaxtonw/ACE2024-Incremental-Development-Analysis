{
 "cells": [
  {
   "cell_type": "code",
   "execution_count": null,
   "metadata": {},
   "outputs": [],
   "source": [
    "import pandas as pd\n",
    "import numpy as np\n",
    "\n",
    "# Visualization\n",
    "from matplotlib import pyplot as plt\n",
    "import seaborn as sns\n",
    "import itertools\n",
    "from projectConstants import * "
   ]
  },
  {
   "attachments": {},
   "cell_type": "markdown",
   "metadata": {},
   "source": [
    "## Load All Data Into `*_unedited` Data Frames"
   ]
  },
  {
   "cell_type": "code",
   "execution_count": null,
   "metadata": {},
   "outputs": [],
   "source": [
    "mid_scores_unedited = pd.read_csv(\"data/mid_scores.csv\")\n",
    "mid_scores = mid_scores_unedited.copy()\n",
    "timeBetweenRuns_unedited = pd.read_csv('./data/timeBetweenRuns.csv')\n",
    "timeBetweenRuns = timeBetweenRuns_unedited.copy()\n",
    "coding_sessions_unedited = pd.read_csv(\"data/codingSessions.csv\")\n",
    "coding_sessions = coding_sessions_unedited.copy()\n",
    "assignment_keystroke_info_unedited = pd.read_csv(\"data/assignmentKeystrokeInfo.csv\")\n",
    "assignment_keystroke_info = assignment_keystroke_info_unedited.copy()"
   ]
  },
  {
   "cell_type": "code",
   "execution_count": null,
   "metadata": {},
   "outputs": [],
   "source": []
  },
  {
   "cell_type": "code",
   "execution_count": null,
   "metadata": {},
   "outputs": [],
   "source": [
    "mid_scores_with_runtime_info = mid_scores.merge(timeBetweenRuns, on=[SUBJECT_ID_KEY, ASSIGNMENT_ID_KEY])"
   ]
  },
  {
   "cell_type": "code",
   "execution_count": null,
   "metadata": {},
   "outputs": [],
   "source": [
    "mid_scores_with_runtime_info"
   ]
  },
  {
   "attachments": {},
   "cell_type": "markdown",
   "metadata": {},
   "source": [
    "#### Generate Merged Data Frames"
   ]
  },
  {
   "cell_type": "code",
   "execution_count": null,
   "metadata": {},
   "outputs": [],
   "source": [
    "mid_scores_with_assignment_info = mid_scores.merge(assignment_keystroke_info, on=[SUBJECT_ID_KEY, ASSIGNMENT_ID_KEY])"
   ]
  },
  {
   "cell_type": "code",
   "execution_count": null,
   "metadata": {},
   "outputs": [],
   "source": [
    "mid_scores_with_assignment_info"
   ]
  },
  {
   "attachments": {},
   "cell_type": "markdown",
   "metadata": {},
   "source": [
    "### Plot Mid Scores over Assignment"
   ]
  },
  {
   "cell_type": "code",
   "execution_count": null,
   "metadata": {},
   "outputs": [],
   "source": [
    "mid_scores.sort_values('AssignmentID')"
   ]
  },
  {
   "cell_type": "code",
   "execution_count": null,
   "metadata": {},
   "outputs": [],
   "source": [
    "sns.scatterplot(data=mid_scores, x='AssignmentID', y='MID_Score', hue='SubjectID')"
   ]
  },
  {
   "cell_type": "code",
   "execution_count": null,
   "metadata": {},
   "outputs": [],
   "source": [
    "sns.scatterplot(data=mid_scores, x='MID_Score', y='AssignmentScore')\n",
    "plt.savefig('./images/AssignmentScore_MidScore.png')"
   ]
  },
  {
   "cell_type": "code",
   "execution_count": null,
   "metadata": {},
   "outputs": [],
   "source": [
    "mid_scores.columns"
   ]
  },
  {
   "cell_type": "code",
   "execution_count": null,
   "metadata": {},
   "outputs": [],
   "source": [
    "variables = filter(lambda v: v != 'Unnamed: 0', mid_scores.columns)\n",
    "pairs = list(itertools.combinations(variables, 2))\n",
    "\n",
    "fig, axs = plt.subplots(len(pairs) // 2, 2, figsize=(12,48))\n",
    "for col in range(len(pairs) // 2):\n",
    "    for row in range(2):\n",
    "        pair = pairs.pop(0)\n",
    "        ax = axs[col][row]\n",
    "        sns.scatterplot(data=mid_scores, x=pair[0], y=pair[1], hue='Incremental', ax=ax)\n",
    "        ax.set_title(f'{pair[0]} vs {pair[1]}')\n",
    "fig.tight_layout()"
   ]
  },
  {
   "cell_type": "code",
   "execution_count": null,
   "metadata": {},
   "outputs": [],
   "source": [
    "sns.boxplot(data=mid_scores, x='AssignmentID', y='MID_Score')"
   ]
  },
  {
   "cell_type": "code",
   "execution_count": null,
   "metadata": {},
   "outputs": [],
   "source": [
    "sns.countplot(data=mid_scores, x='AssignmentID')"
   ]
  },
  {
   "attachments": {},
   "cell_type": "markdown",
   "metadata": {},
   "source": [
    "#### Mid Score in Relation to Final Grade"
   ]
  },
  {
   "cell_type": "code",
   "execution_count": null,
   "metadata": {},
   "outputs": [],
   "source": []
  },
  {
   "cell_type": "code",
   "execution_count": null,
   "metadata": {},
   "outputs": [],
   "source": [
    "students = mid_scores[SUBJECT_ID_KEY].unique()\n",
    "\n",
    "score_df = pd.DataFrame()\n",
    "\n",
    "for student in students: \n",
    "    student_df = mid_scores.loc[mid_scores[SUBJECT_ID_KEY] == student]\n",
    "    # do those with 3 or more assignments\n",
    "    if len(student_df[ASSIGNMENT_ID_KEY]) > 3:\n",
    "        row = pd.DataFrame({\n",
    "                SUBJECT_ID_KEY: student,\n",
    "                FINAL_SCORE_KEY: student_df[FINAL_SCORE_KEY].unique()[0],\n",
    "                'IncrementalPercent': ((student_df[INCREMENTAL_KEY]==1).sum() / student_df[INCREMENTAL_KEY].count()) * 100\n",
    "        }, index=[0])\n",
    "        score_df = pd.concat([score_df, row], ignore_index=True)\n",
    "    # print(incremental_development_count)\n",
    "score_df = score_df.dropna()\n",
    "\n",
    "ax = sns.scatterplot(x=FINAL_SCORE_KEY, y='IncrementalPercent', data=score_df)\n",
    "ax.set(title='Incremental Development in Relation to Final Score')\n",
    "ax.set_ylabel(\"Percentage of Incremental Development Over Course\")\n",
    "ax.set_xlabel(\"Final Score\")"
   ]
  },
  {
   "attachments": {},
   "cell_type": "markdown",
   "metadata": {},
   "source": [
    "### Analysis of Time Between Runs"
   ]
  },
  {
   "cell_type": "code",
   "execution_count": null,
   "metadata": {},
   "outputs": [],
   "source": [
    "# look at assignments for each student, average time between runs per assignment\n",
    "averagePerRunDf = pd.DataFrame()\n",
    "students = timeBetweenRuns[SUBJECT_ID_KEY].unique()\n",
    "assignments = timeBetweenRuns[ASSIGNMENT_ID_KEY].unique()\n",
    "timeBetweenRunsDf = timeBetweenRuns.copy()\n",
    "studentAssignment = pd.DataFrame()\n",
    "for student in students:\n",
    "    for assignment in assignments: \n",
    "        studentAssignment = mid_scores_with_runtime_info[(mid_scores_with_runtime_info.SubjectID == student)&(mid_scores_with_runtime_info.AssignmentID == assignment)].copy()\n",
    "        # mean = studentAssignment[DIFF_KEY].mean()\n",
    "        studentAssignment = studentAssignment.dropna()\n",
    "        # display(studentAssignment)\n",
    "        hours = studentAssignment.groupby([SUBJECT_ID_KEY, ASSIGNMENT_ID_KEY]).agg({HOURS_DIFF_KEY : sum}).reset_index()[HOURS_DIFF_KEY].values\n",
    "        hoursAsSeconds = (hours[0] if len(hours) > 0 else 0) * 3600\n",
    "        \n",
    "        minutes = studentAssignment.groupby([SUBJECT_ID_KEY, ASSIGNMENT_ID_KEY]).agg({MINUTES_DIFF_KEY : sum}).reset_index()[MINUTES_DIFF_KEY].values\n",
    "        minutesAsSeconds = (minutes[0] if len(minutes) > 0 else 0) * 60\n",
    "\n",
    "        seconds = studentAssignment.groupby([SUBJECT_ID_KEY, ASSIGNMENT_ID_KEY]).agg({SECONDS_DIFF_KEY : sum}).reset_index()[SECONDS_DIFF_KEY].values\n",
    "        secondsValue = (seconds[0] if len(seconds) > 0 else 0)\n",
    "\n",
    "        # get number of runs per assignment\n",
    "        numRuns = (studentAssignment[ASSIGNMENT_ID_KEY] == assignment).sum()\n",
    "        if len(studentAssignment) > 0:\n",
    "            # averageTime = pd.to_timedelta(int((hoursAsSeconds + minutesAsSeconds + secondsValue) / len(studentAssignment)), unit='s')\n",
    "            averageTime = int((hoursAsSeconds + minutesAsSeconds + secondsValue) / len(studentAssignment))\n",
    "            averageRunRow = pd.DataFrame({SUBJECT_ID_KEY: student, \n",
    "                                          ASSIGNMENT_ID_KEY: assignment, \n",
    "                                          MID_SCORE_KEY: studentAssignment[MID_SCORE_KEY].unique()[0] if len(studentAssignment[MID_SCORE_KEY].unique()) > 0 else -1, \n",
    "                                          'AverageTimePerRun': averageTime,\n",
    "                                          'NumRunsPerAssignment': numRuns}, \n",
    "                                          index=[0])\n",
    "            averagePerRunDf = pd.concat([averagePerRunDf, averageRunRow], ignore_index=True)\n",
    "display(averagePerRunDf)"
   ]
  },
  {
   "cell_type": "code",
   "execution_count": null,
   "metadata": {},
   "outputs": [],
   "source": [
    "for assignment in assignments:\n",
    "    # x is student\n",
    "    # y is average time\n",
    "    assignmentAvgPerRunDf = averagePerRunDf[(averagePerRunDf.AssignmentID == assignment)].copy()\n",
    "    ax = sns.scatterplot(x=SUBJECT_ID_KEY, y='AverageTimePerRun', data=assignmentAvgPerRunDf)\n",
    "    ax.set(title=f'Avg Time Between Runs Per Student {assignment}')\n",
    "    ax.set_ylabel(\"Avg Time Between Runs\")\n",
    "    ax.set_xlabel(\"Student\")\n",
    "    plt.figure()"
   ]
  },
  {
   "cell_type": "code",
   "execution_count": null,
   "metadata": {},
   "outputs": [],
   "source": [
    "for student in students:\n",
    "    # x is student\n",
    "    # y is average time\n",
    "    studentAvgPerRunDf = averagePerRunDf[(averagePerRunDf.SubjectID == student)].copy()\n",
    "    if studentAvgPerRunDf[ASSIGNMENT_ID_KEY].unique().size > 3:\n",
    "        ax = sns.barplot(x=ASSIGNMENT_ID_KEY, y='AverageTimePerRun', data=studentAvgPerRunDf)\n",
    "        ax.set(title=f'Avg Time Between Runs Per Assignment {student}')\n",
    "        ax.set_ylabel(\"Avg Time Between Runs\")\n",
    "        ax.set_xlabel(\"Assignment\")\n",
    "        plt.figure()"
   ]
  },
  {
   "cell_type": "code",
   "execution_count": null,
   "metadata": {},
   "outputs": [],
   "source": [
    "sns.regplot(data=averagePerRunDf, y='NumRunsPerAssignment', x=MID_SCORE_KEY)"
   ]
  },
  {
   "cell_type": "code",
   "execution_count": null,
   "metadata": {},
   "outputs": [],
   "source": [
    "sns.boxplot(data=mid_scores_with_assignment_info, y=INCREMENTAL_KEY, x=SESSION_COUNT_KEY, orient='h')"
   ]
  },
  {
   "cell_type": "code",
   "execution_count": null,
   "metadata": {},
   "outputs": [],
   "source": [
    "sns.boxplot(data=mid_scores_with_assignment_info, y=INCREMENTAL_KEY, x=AVG_KEYDIFF_TIME_KEY, orient='h')"
   ]
  },
  {
   "cell_type": "code",
   "execution_count": null,
   "metadata": {},
   "outputs": [],
   "source": [
    "sns.boxplot(data=mid_scores_with_assignment_info, y=INCREMENTAL_KEY, x=NUMBER_KEYSTROKES_KEY, orient='h')"
   ]
  },
  {
   "cell_type": "code",
   "execution_count": null,
   "metadata": {},
   "outputs": [],
   "source": [
    "sns.regplot(data=mid_scores_with_assignment_info, y=SESSION_COUNT_KEY, x=MID_SCORE_KEY)"
   ]
  },
  {
   "cell_type": "code",
   "execution_count": null,
   "metadata": {},
   "outputs": [],
   "source": [
    "sns.regplot(data=mid_scores_with_assignment_info, y=TOTAL_ASSIGNMENT_TIME_KEY, x=MID_SCORE_KEY)"
   ]
  },
  {
   "cell_type": "code",
   "execution_count": null,
   "metadata": {},
   "outputs": [],
   "source": [
    "mid_scores_with_assignment_info"
   ]
  },
  {
   "cell_type": "markdown",
   "metadata": {},
   "source": []
  }
 ],
 "metadata": {
  "kernelspec": {
   "display_name": "venv",
   "language": "python",
   "name": "python3"
  },
  "language_info": {
   "codemirror_mode": {
    "name": "ipython",
    "version": 3
   },
   "file_extension": ".py",
   "mimetype": "text/x-python",
   "name": "python",
   "nbconvert_exporter": "python",
   "pygments_lexer": "ipython3",
   "version": "3.10.8"
  },
  "vscode": {
   "interpreter": {
    "hash": "07ae73d8d6124c5eb4a36a8cd40b089dc63da2c02d3d7f8d7bd96e8acccf4263"
   }
  }
 },
 "nbformat": 4,
 "nbformat_minor": 2
}
