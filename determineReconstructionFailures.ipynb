{
 "cells": [
  {
   "cell_type": "markdown",
   "metadata": {},
   "source": [
    "# Import All Necessary Modules And Setup Project\n",
    "\n",
    "If you get any errors when importing these, ensure you run the commands:\n",
    "```bash\n",
    "$ python -m pip install -r requirements.txt\n",
    "```\n",
    "to install all necessary modules for this project. This command must be run from inside of this project directory.\n",
    "\n",
    "It is recommended to use virtual environments for this project to ensure there is no conflicting package versions on your system.\n",
    "\n",
    "Activate the virtual environment (if needed), run the pip install command, and then launch Jupyter Lab inside this project to get this project running."
   ]
  },
  {
   "cell_type": "code",
   "execution_count": null,
   "metadata": {},
   "outputs": [],
   "source": [
    "import pandas as pd"
   ]
  },
  {
   "attachments": {},
   "cell_type": "markdown",
   "metadata": {},
   "source": [
    "## Define Constants"
   ]
  },
  {
   "cell_type": "code",
   "execution_count": null,
   "metadata": {},
   "outputs": [],
   "source": [
    "OUTPUT_FILE = 'data/reconstructionFailures.csv'\n",
    "\n",
    "STUDENT_COL = 'Student'\n",
    "ASSN_COL = 'Assignment'\n",
    "FILE_COL = 'FileName'\n",
    "EXECUTION_COL = 'ExecutionState'\n",
    "\n",
    "# File successfully ran\n",
    "EC_SUCCESS = 0\n",
    "# File had an indentation or syntax error, probably bad reconstruction\n",
    "EC_IND_OR_STX_ERR = 1\n",
    "# File had an import error\n",
    "#   Most likely because the 'modules' directory doesn't exist\n",
    "#   Possibly due to reconstruction error\n",
    "EC_IMPORT_ERR = 2\n",
    "# Some other error occurred, and we really need to do some digging to figure this out\n",
    "EC_OTHER_ERR = 3"
   ]
  },
  {
   "attachments": {},
   "cell_type": "markdown",
   "metadata": {},
   "source": [
    "## Load Data"
   ]
  },
  {
   "cell_type": "code",
   "execution_count": null,
   "metadata": {},
   "outputs": [],
   "source": [
    "reconstruction_runnability_df_uneditied = pd.read_csv('data/reconstructionRunnability.csv')"
   ]
  },
  {
   "cell_type": "code",
   "execution_count": null,
   "metadata": {},
   "outputs": [],
   "source": [
    "reconstruction_runnability_df = reconstruction_runnability_df_uneditied.copy()"
   ]
  },
  {
   "cell_type": "code",
   "execution_count": null,
   "metadata": {},
   "outputs": [],
   "source": [
    "reconstruction_runnability_df[EXECUTION_COL].value_counts()"
   ]
  },
  {
   "attachments": {},
   "cell_type": "markdown",
   "metadata": {},
   "source": [
    "#### Check All Import Errors\n",
    "\n",
    "After checking all import errors, it was found that the import errors were *actual* import errors, and not due to bad reconstructions. These can all be converted into `0`, indicating a successful reconstruction!"
   ]
  },
  {
   "cell_type": "code",
   "execution_count": null,
   "metadata": {},
   "outputs": [],
   "source": [
    "reconstruction_runnability_df[EXECUTION_COL] = reconstruction_runnability_df[EXECUTION_COL].apply(lambda x: 0 if x == 2 else x)"
   ]
  },
  {
   "attachments": {},
   "cell_type": "markdown",
   "metadata": {},
   "source": [
    "## List All Broken Files"
   ]
  },
  {
   "cell_type": "code",
   "execution_count": null,
   "metadata": {},
   "outputs": [],
   "source": [
    "syntax_errs = reconstruction_runnability_df[reconstruction_runnability_df[EXECUTION_COL] == EC_IND_OR_STX_ERR]\n",
    "other_errs = reconstruction_runnability_df[reconstruction_runnability_df[EXECUTION_COL] == EC_OTHER_ERR]"
   ]
  },
  {
   "cell_type": "code",
   "execution_count": null,
   "metadata": {},
   "outputs": [],
   "source": [
    "syntax_errs[STUDENT_COL].value_counts()"
   ]
  },
  {
   "cell_type": "code",
   "execution_count": null,
   "metadata": {},
   "outputs": [],
   "source": [
    "other_errs[STUDENT_COL].value_counts()"
   ]
  },
  {
   "attachments": {},
   "cell_type": "markdown",
   "metadata": {},
   "source": [
    "#### Syntax Errors List\n",
    "\n",
    "These errors are *probably* due to bad reconstructions, but some may be because of students making mistakes. We need to quickly analyze these, and remove any bad reconstructions from our dataset."
   ]
  },
  {
   "cell_type": "code",
   "execution_count": null,
   "metadata": {},
   "outputs": [],
   "source": [
    "print(\"Syntax Errors:\")\n",
    "for idx,row in syntax_errs.iterrows():\n",
    "    print(f\"(\\\"{row[STUDENT_COL]}\\\", \\\"{row[ASSN_COL]}\\\", \\\"{row[FILE_COL]}\\\"),\")"
   ]
  },
  {
   "attachments": {},
   "cell_type": "markdown",
   "metadata": {},
   "source": [
    "#### Other Errors List\n",
    "\n",
    "These errors are *probably* due to other issues in the student's code. We probably want these in our dataset, but should at least verify that they are not broken due to our reconstructions."
   ]
  },
  {
   "cell_type": "code",
   "execution_count": null,
   "metadata": {},
   "outputs": [],
   "source": [
    "print(\"Other Errors:\")\n",
    "for idx,row in other_errs.iterrows():\n",
    "    print(f\"(\\\"{row[STUDENT_COL]}\\\", \\\"{row[ASSN_COL]}\\\", \\\"{row[FILE_COL]}\\\"),\")"
   ]
  },
  {
   "cell_type": "code",
   "execution_count": null,
   "metadata": {},
   "outputs": [],
   "source": [
    "# These need to be marked as \"okay,\" regardless of error status\n",
    "GOOD_RECONSTRUCTIONS_WITH_OTHER_ERRORS = (\n",
    "    # Other Errors\n",
    "    (\"Student1\", \"Assign9\", \"unit5_task1_starter.py\"),\n",
    "    (\"Student15\", \"Assign7\", \"junk.py\"),\n",
    "    (\"Student15\", \"Assign7\", \"multiplication table.py\"),\n",
    "    (\"Student19\", \"Assign7\", \"assn7-task2-starter.py\"),\n",
    "    (\"Student2\", \"Assign6\", \"task2.py\"),\n",
    "    (\"Student20\", \"Assign11\", \"Task 1.py\"),\n",
    "    (\"Student20\", \"Assign12\", \"Task 1.py\"),\n",
    "    (\"Student20\", \"Assign6\", \"Task 1.py\"),\n",
    "    (\"Student20\", \"Assign6\", \"Task 2.py\"),\n",
    "    (\"Student20\", \"Assign8\", \"task1.py\"),\n",
    "    (\"Student20\", \"Assign9\", \"Task 2.py\"),\n",
    "    (\"Student21\", \"Assign10\", \"test it out.py\"),\n",
    "    (\"Student28\", \"Assign6\", \"task1.py\"),\n",
    "    (\"Student29\", \"Assign13\", \"memory test.py\"),\n",
    "    (\"Student29\", \"Assign13\", \"messing around.py\"),\n",
    "    (\"Student29\", \"Assign13\", \"messing round.py\"),\n",
    "    (\"Student29\", \"Assign6\", \"messing round.py\"),\n",
    "    (\"Student29\", \"Assign8\", \"messing round 2.py\"),\n",
    "    (\"Student29\", \"Assign8\", \"messing round.py\"),\n",
    "    (\"Student39\", \"Assign6\", \"Task2.py\"),\n",
    "    (\"Student6\", \"Assign6\", \"task1.py\"),\n",
    "    (\"Student6\", \"Assign8\", \"starter.py\"),\n",
    ")\n",
    "\n",
    "GOOD_RECONSTRUCTIONS_WITH_SYNTAX_ERRORS = (\n",
    "    # Syntax Errors\n",
    "    (\"Student12\", \"Assign10\", \"wordinator.py\"),\n",
    "    (\"Student12\", \"Assign12\", \"card.py\"),\n",
    "    (\"Student12\", \"Assign13\", \"gameboard.py\"),\n",
    "    (\"Student12\", \"Assign13\", \"memorycard.py\"),\n",
    "    (\"Student12\", \"Assign7\", \"task2.py\"),\n",
    "    (\"Student16\", \"Assign10\", \"plan1.py\"),\n",
    "    (\"Student16\", \"Assign7\", \"chessboard.py\"),\n",
    "    (\"Student16\", \"Assign7\", \"task2.py\"),\n",
    "    (\"Student16\", \"Assign8\", \"plan1.py\"),\n",
    "    (\"Student16\", \"Assign9\", \"task2.py\"),\n",
    "    (\"Student19\", \"Assign7\", \"task1.py\"),\n",
    "    (\"Student19\", \"Assign8\", \"task1.py\"),\n",
    "    (\"Student2\", \"Assign11\", \"main.py\"),\n",
    "    (\"Student2\", \"Assign11\", \"task1.py\"),\n",
    "    (\"Student2\", \"Assign12\", \"main.py\"),\n",
    "    (\"Student2\", \"Assign6\", \"task1.py\"),\n",
    "    (\"Student2\", \"Assign7\", \"main.py\"),\n",
    "    (\"Student2\", \"Assign8\", \"main.py\"),\n",
    "    (\"Student2\", \"Assign8\", \"pattern.py\"),\n",
    "    (\"Student2\", \"Assign8\", \"task1.py\"),\n",
    "    (\"Student2\", \"Assign9\", \"main.py\"),\n",
    "    (\"Student2\", \"Assign9\", \"task1.py\"),\n",
    "    (\"Student2\", \"Assign9\", \"task2.py\"),\n",
    "    (\"Student20\", \"Assign9\", \"blobber.py\"),\n",
    "    (\"Student22\", \"Assign12\", \"task3.py\"),\n",
    "    (\"Student22\", \"Assign6\", \"task2.py\"), #This one is questionable. A single quotation is missing, which may be the student's mistake. It is good enough of a reconstruction that the midscore computation won't be affected\n",
    "    (\"Student22\", \"Assign8\", \"task1.py\"),\n",
    "    (\"Student22\", \"Assign9\", \"task2.py\"),\n",
    "    (\"Student29\", \"Assign12\", \"plan3.py\"),\n",
    "    (\"Student29\", \"Assign13\", \"plan1.txt.py\"),\n",
    "    (\"Student29\", \"Assign8\", \"main.py\"),\n",
    "    (\"Student3\", \"Assign6\", \"task1.py\"),\n",
    "    (\"Student3\", \"Assign9\", \"blobber.py\"),\n",
    "    (\"Student30\", \"Assign8\", \"task1.py\"),\n",
    "    (\"Student30\", \"Assign8\", \"Task1.py\"),\n",
    "    (\"Student31\", \"Assign7\", \"drawChessboard.py\"),\n",
    "    (\"Student32\", \"Assign12\", \"task2.py\"),\n",
    "    (\"Student32\", \"Assign9\", \"blobber.py\"),\n",
    "    (\"Student34\", \"Assign7\", \"task2.py\"),\n",
    "    (\"Student36\", \"Assign12\", \"card.py\"),\n",
    "    (\"Student36\", \"Assign12\", \"deck.py\"),\n",
    "    (\"Student36\", \"Assign12\", \"task3.py\"),\n",
    "    (\"Student36\", \"Assign9\", \"blobber.py\"),\n",
    "    (\"Student37\", \"Assign8\", \"task1.py\"),\n",
    "    (\"Student39\", \"Assign9\", \"Blobber.py\"),\n",
    "    (\"Student39\", \"Assign9\", \"Task2.py\"),\n",
    "    (\"Student40\", \"Assign7\", \"task2.py\"),\n",
    "    (\"Student43\", \"Assign12\", \"task3.py\"),\n",
    "    (\"Student6\", \"Assign10\", \"task1.py\"),\n",
    "    (\"Student6\", \"Assign12\", \"task3.py\"),\n",
    "    (\"Student6\", \"Assign13\", \"memoryboard.py\"),\n",
    "    (\"Student6\", \"Assign13\", \"task1.py\"),\n",
    "    (\"Student9\", \"Assign8\", \"task1.py\"),\n",
    ")\n",
    "\n",
    "# These are bad reconstructions\n",
    "    #(\"Student12\", \"Assign7\", \"chessboard.py\"),\n",
    "    # (\"Student12\", \"Assign9\", \"task1.py\"),\n",
    "    # (\"Student12\", \"Assign9\", \"task2.py\"),\n",
    "    # (\"Student12\", \"Assign9\", \"testDraw.py\"),\n",
    "    # (\"Student15\", \"Assign6\", \"scratchWork.py\"),\n",
    "    # (\"Student15\", \"Assign6\", \"task2.py\"),\n",
    "    # (\"Student16\", \"Assign11\", \"task1.py\"),\n",
    "    # (\"Student16\", \"Assign13\", \"task2.py\"),\n",
    "    #(\"Student16\", \"Assign6\", \"task1.py\"),\n",
    "    # (\"Student16\", \"Assign9\", \"blobber.py\"),\n",
    "    # (\"Student19\", \"Assign10\", \"wordinator.py\"),\n",
    "    # (\"Student19\", \"Assign11\", \"orbian.py\"),\n",
    "    # (\"Student19\", \"Assign8\", \"pattern.py\"),\n",
    "    #(\"Student20\", \"Assign7\", \"Task1.py\"),\n",
    "    #(\"Student21\", \"Assign13\", \"memory_test.py\"),\n",
    "    #(\"Student22\", \"Assign7\", \"task2.py\"),\n",
    "    #(\"Student22\", \"Assign8\", \"pattern.py\"),\n",
    "    #(\"Student24\", \"Assign13\", \"task1.py\"),\n",
    "    #(\"Student24\", \"Assign7\", \"task1.py\"),\n",
    "    #(\"Student26\", \"Assign11\", \"Task1.py\"),\n",
    "    #(\"Student26\", \"Assign13\", \"Task1.py\"),\n",
    "    #(\"Student26\", \"Assign7\", \"chessboard.py\"),\n",
    "    #(\"Student26\", \"Assign7\", \"Task2.py\"),\n",
    "    #(\"Student26\", \"Assign8\", \"pattern.py\"),\n",
    "    #(\"Student26\", \"Assign8\", \"Task1.py\"),\n",
    "    #(\"Student26\", \"Assign9\", \"Task1.py\"),\n",
    "    # (\"Student27\", \"Assign12\", \"task2.py\"),\n",
    "    # (\"Student27\", \"Assign13\", \"task2.py\"),\n",
    "    # (\"Student27\", \"Assign9\", \"task1.py\"),\n",
    "    # (\"Student29\", \"Assign12\", \"task2.py\"),\n",
    "    # (\"Student30\", \"Assign13\", \"junk.py\"),\n",
    "    # (\"Student30\", \"Assign8\", \"pattern.py\"),\n",
    "    # (\"Student33\", \"Assign12\", \"task3.py\"),\n",
    "    # (\"Student33\", \"Assign9\", \"task1.py\"),\n",
    "    # (\"Student33\", \"Assign9\", \"task2.py\"),\n",
    "    # (\"Student34\", \"Assign7\", \"chessboard.py\"),\n",
    "    # (\"Student37\", \"Assign6\", \"task1.py\"),\n",
    "    # (\"Student37\", \"Assign8\", \"pattern.py\"),\n",
    "    # (\"Student38\", \"Assign6\", \"task1.py\"),\n",
    "    # (\"Student39\", \"Assign10\", \"junk.py\"),\n",
    "    # (\"Student39\", \"Assign10\", \"Task1.py\"),\n",
    "    # (\"Student39\", \"Assign6\", \"Task1.py\"),\n",
    "    # (\"Student39\", \"Assign7\", \"task1.py\"),\n",
    "    # (\"Student39\", \"Assign7\", \"Task1.py\"),\n",
    "    # (\"Student4\", \"Assign6\", \"task2.py\"),\n",
    "    # (\"Student40\", \"Assign7\", \"chessboard.py\"),\n",
    "    # (\"Student40\", \"Assign8\", \"task1.py\"),\n",
    "    # (\"Student40\", \"Assign9\", \"task1.py\"),\n",
    "    # (\"Student43\", \"Assign7\", \"task1.py\"),\n",
    "    # (\"Student5\", \"Assign12\", \"task3.py\"),\n",
    "    # (\"Student6\", \"Assign10\", \"wordinator.py\"),\n",
    "    # (\"Student6\", \"Assign13\", \"memorytest.py\"),\n",
    "    # (\"Student7\", \"Assign13\", \"memory_test.py\"),\n",
    "    # (\"Student7\", \"Assign6\", \"task1.py\"),\n",
    "    # (\"Student7\", \"Assign7\", \"task1.py\"),\n",
    "    # (\"Student9\", \"Assign12\", \"task3.py\"),\n",
    "    # (\"Student9\", \"Assign13\", \"task2.py\"),\n",
    "    # (\"Student9\", \"Assign6\", \"task1.py\"),\n",
    "    # (\"Student9\", \"Assign7\", \"task2.py\"),\n",
    "    # (\"Student9\", \"Assign8\", \"pattern.py\"),\n",
    "    # (\"Student9\", \"Assign9\", \"task1.py\"),"
   ]
  },
  {
   "cell_type": "code",
   "execution_count": null,
   "metadata": {},
   "outputs": [],
   "source": [
    "toFix = (GOOD_RECONSTRUCTIONS_WITH_OTHER_ERRORS, GOOD_RECONSTRUCTIONS_WITH_SYNTAX_ERRORS)\n",
    "\n",
    "for fix in toFix:\n",
    "    for fileTuple in fix:\n",
    "        # mark the student, assn, file as a good reconstruction\n",
    "        reconstruction_runnability_df.loc[\n",
    "                  ( reconstruction_runnability_df[STUDENT_COL] == fileTuple[0] )\n",
    "                & ( reconstruction_runnability_df[ASSN_COL]    == fileTuple[1] )\n",
    "                & ( reconstruction_runnability_df[FILE_COL]    == fileTuple[2] )\n",
    "                , EXECUTION_COL] = 0"
   ]
  },
  {
   "cell_type": "code",
   "execution_count": null,
   "metadata": {},
   "outputs": [],
   "source": [
    "reconstruction_runnability_df = reconstruction_runnability_df.rename(columns={EXECUTION_COL : 'ReconstructionFailure'})"
   ]
  },
  {
   "attachments": {},
   "cell_type": "markdown",
   "metadata": {},
   "source": [
    "## Save File\n",
    "\n",
    "Save the dataframe into a `.csv` file."
   ]
  },
  {
   "cell_type": "code",
   "execution_count": null,
   "metadata": {},
   "outputs": [],
   "source": [
    "reconstruction_runnability_df.to_csv(OUTPUT_FILE)"
   ]
  }
 ],
 "metadata": {
  "kernelspec": {
   "display_name": "venv",
   "language": "python",
   "name": "python3"
  },
  "language_info": {
   "codemirror_mode": {
    "name": "ipython",
    "version": 3
   },
   "file_extension": ".py",
   "mimetype": "text/x-python",
   "name": "python",
   "nbconvert_exporter": "python",
   "pygments_lexer": "ipython3",
   "version": "3.10.10"
  },
  "vscode": {
   "interpreter": {
    "hash": "5e7cd3a884995e5ac0fa852e707a391ad35b963e757ae698c795d1558dfb018c"
   }
  }
 },
 "nbformat": 4,
 "nbformat_minor": 2
}
