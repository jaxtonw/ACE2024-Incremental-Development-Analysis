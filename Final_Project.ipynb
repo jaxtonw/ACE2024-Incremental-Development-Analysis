{
 "cells": [
  {
   "cell_type": "markdown",
   "metadata": {},
   "source": [
    "# Import All Necessary Modules And Setup Project\n",
    "\n",
    "If you get any errors when importing these, ensure you run the commands:\n",
    "```bash\n",
    "$ python -m pip install -r requirements.txt\n",
    "```\n",
    "to install all necessary modules for this project. This command must be run from inside of this project directory.\n",
    "\n",
    "It is recommended to use virtual environments for this project to ensure there is no conflicting package versions on your system.\n",
    "\n",
    "Activate the virtual environment (if needed), run the pip install command, and then launch Jupyter Lab inside this project to get this project running."
   ]
  },
  {
   "cell_type": "code",
   "execution_count": null,
   "metadata": {},
   "outputs": [],
   "source": [
    "# Uncomment the following line to execute the pip install\n",
    "# %pip install -r requirements.txt"
   ]
  },
  {
   "cell_type": "code",
   "execution_count": null,
   "metadata": {},
   "outputs": [],
   "source": [
    "import pandas as pd\n",
    "import numpy as np\n",
    "\n",
    "# Visualization\n",
    "from matplotlib import pyplot as plt\n",
    "import seaborn as sns\n",
    "\n",
    "from measure_incremental_development.compute import calculate_mid, classify_snapshots\n"
   ]
  },
  {
   "cell_type": "markdown",
   "metadata": {},
   "source": [
    "## Load Datasets"
   ]
  },
  {
   "cell_type": "code",
   "execution_count": null,
   "metadata": {},
   "outputs": [],
   "source": [
    "keystroke_df_unedited = pd.read_csv(\"data/keystrokes.csv\")\n",
    "student_df_unedited = pd.read_csv(\"data/students.csv\")"
   ]
  },
  {
   "cell_type": "markdown",
   "metadata": {},
   "source": [
    "#### Copy Datasets For Modification\n",
    "\n",
    "This preserves the initial datasets, in case we ever need to bring an unedited column/row back into anything"
   ]
  },
  {
   "cell_type": "code",
   "execution_count": null,
   "metadata": {},
   "outputs": [],
   "source": [
    "keystroke_df = keystroke_df_unedited.copy()\n",
    "student_df = student_df_unedited.copy()"
   ]
  },
  {
   "cell_type": "markdown",
   "metadata": {},
   "source": [
    "## Get DF Representing Single Student Submission And File"
   ]
  },
  {
   "cell_type": "code",
   "execution_count": null,
   "metadata": {},
   "outputs": [],
   "source": [
    "def getFileInStudentSubmission(df, student, assignment, fileName):\n",
    "    '''\n",
    "    Returns a dataframe that shows all submission data for a single file on a given assignment, for a given student\n",
    "\n",
    "    df - a dataframe of keystroke data\n",
    "    student - a string representing the SubjectID to filter by\n",
    "    assignment - a strinng representing the filename to filter by\n",
    "    fileName - the name of the file to filter by\n",
    "\n",
    "    Returns a COPY of the dataframe, containing only the selected student, assignment, and file\n",
    "    '''\n",
    "    f = df[\n",
    "          (df.SubjectID == student)\n",
    "        & (df.AssignmentID == assignment)\n",
    "        & (df.CodeStateSection == fileName)\n",
    "        ].copy()\n",
    "    return f"
   ]
  },
  {
   "cell_type": "code",
   "execution_count": null,
   "metadata": {},
   "outputs": [],
   "source": [
    "def getStudentSubmission(df, student, assignment):\n",
    "    '''\n",
    "    Returns a dataframe that shows all submission data for all files on a given assignment, for a given student\n",
    "\n",
    "    df - a dataframe of keystroke data\n",
    "    student - a string representing the SubjectID to filter by\n",
    "    assignment - a string representing the filename to filter by\n",
    "    \n",
    "    Returns a COPY of the dataframe, containing only the selected student and assignment\n",
    "    '''\n",
    "    f = df[\n",
    "          (df.SubjectID == student)\n",
    "        & (df.AssignmentID == assignment)\n",
    "        ].copy()\n",
    "\n",
    "    return f"
   ]
  },
  {
   "cell_type": "code",
   "execution_count": null,
   "metadata": {},
   "outputs": [],
   "source": [
    "def filterDownToRunAndEdits(df):\n",
    "    return df[(\n",
    "            (df.EventType == 'File.Edit')\n",
    "          | (df.EventType == 'Run.Program')\n",
    "          )]"
   ]
  },
  {
   "cell_type": "code",
   "execution_count": null,
   "metadata": {},
   "outputs": [],
   "source": [
    "def filterDownToRunAndEditsAndPastes(df):\n",
    "    return df[(\n",
    "            (df.EventType == 'File.Edit')\n",
    "          | (df.EventType == 'Run.Program')\n",
    "          | (df.EventType == 'X-Paste')\n",
    "          )]"
   ]
  },
  {
   "cell_type": "code",
   "execution_count": null,
   "metadata": {},
   "outputs": [],
   "source": [
    "def getStudentSubmissionRunsAndEdits(df, student, assignment):\n",
    "    '''\n",
    "    Returns a dataframe that shows all submission data for a given assignment, for a given student, with only run and edit events\n",
    "\n",
    "    df - a dataframe of keystroke data\n",
    "    student - a string representing the SubjectID to filter by\n",
    "    assignment - a strinng representing the filename to filter by\n",
    "    '''\n",
    "    return filterDownToRunAndEdits(getStudentSubmission(df, student, assignment))"
   ]
  },
  {
   "cell_type": "code",
   "execution_count": null,
   "metadata": {},
   "outputs": [],
   "source": [
    "def getFileInStudentSubmissionRunsAndEdits(df, student, assignment, fileName):\n",
    "    '''\n",
    "    Returns a dataframe that shows all submission data for a single file on a given assignment, for a given student, with only run and edit events\n",
    "\n",
    "    df - a dataframe of keystroke data\n",
    "    student - a string representing the SubjectID to filter by\n",
    "    assignment - a strinng representing the filename to filter by\n",
    "    fileName - the name of the file to filter by\n",
    "    '''\n",
    "\n",
    "    return filterDownToRunAndEdits(getFileInStudentSubmission(df, student, assignment, fileName))"
   ]
  },
  {
   "cell_type": "markdown",
   "metadata": {},
   "source": [
    "## Reconstruct Submissions"
   ]
  },
  {
   "cell_type": "code",
   "execution_count": null,
   "metadata": {},
   "outputs": [],
   "source": [
    "def reconstructSingleFileDebugger(df):\n",
    "    '''\n",
    "    See a submission as it gets reconstructed, ignoring the Run events\n",
    "\n",
    "    This is used primarily for debugging\n",
    "    '''\n",
    "\n",
    "    s = ''\n",
    "\n",
    "    fileStateCount = 0\n",
    "    for _,row in df[df.EventType=='File.Edit'].iterrows():\n",
    "        i = int(row.SourceLocation)\n",
    "        fileLengthRn = len(s)\n",
    "        if i > fileLengthRn:\n",
    "            print(\"DEBUG: Woah buddy, your cursor is out of bounds\")\n",
    "\n",
    "\n",
    "        insert = '' if pd.isna(row.InsertText) else row.InsertText\n",
    "        delete = '' if pd.isna(row.DeleteText) else row.DeleteText\n",
    "        s = s[:i] + insert + s[i+len(delete):]\n",
    "\n",
    "        print(f\"\"\"\\\n",
    "================\n",
    "StateNo : {fileStateCount}\n",
    "{i=}\n",
    "{insert=}\n",
    "{delete=}\n",
    "{row.EventID=}\n",
    "================\n",
    "{s}\n",
    "\"\"\")\n",
    "        fileStateCount += 1\n",
    "\n",
    "    return s"
   ]
  },
  {
   "cell_type": "code",
   "execution_count": null,
   "metadata": {},
   "outputs": [],
   "source": [
    "def reconstructFinalFile(df):\n",
    "    '''\n",
    "    Reconstruct a single file\n",
    "\n",
    "    df - A dataframe containing a single student, for a single assignment, \n",
    "            and a single file of that assignment\n",
    "\n",
    "    Returns: A string representing the final state of the file\n",
    "    '''\n",
    "\n",
    "    s = ''\n",
    "\n",
    "    for _,row in df[df.EventType=='File.Edit'].iterrows():\n",
    "        i = int(row.SourceLocation)\n",
    "\n",
    "        insert = '' if pd.isna(row.InsertText) else row.InsertText\n",
    "        delete = '' if pd.isna(row.DeleteText) else row.DeleteText\n",
    "        s = s[:i] + insert + s[i+len(delete):]\n",
    "    \n",
    "    return s"
   ]
  },
  {
   "cell_type": "code",
   "execution_count": null,
   "metadata": {},
   "outputs": [],
   "source": [
    "def reconstructFileAtRunEvents(df):\n",
    "    '''\n",
    "    Reconstruct a single file and save it's state at different run events\n",
    "\n",
    "    df - A dataframe containing a single student, for a single assignment, \n",
    "            and a single file of that assignment. Must have edit events and run events\n",
    "\n",
    "    Returns: A list containing strings representing the various states of the file at different run events\n",
    "    '''\n",
    "\n",
    "    fileStateAtRuns = []\n",
    "\n",
    "    s = ''\n",
    "\n",
    "    for _,row in df.iterrows():\n",
    "        if row.EventType == 'File.Edit':\n",
    "            i = int(row.SourceLocation)\n",
    "\n",
    "            insert = '' if pd.isna(row.InsertText) else row.InsertText\n",
    "            delete = '' if pd.isna(row.DeleteText) else row.DeleteText\n",
    "            s = s[:i] + insert + s[i+len(delete):]\n",
    "        elif row.EventType == 'Run.Program':\n",
    "            fileStateAtRuns.append(s)\n",
    "\n",
    "    fileStateAtRuns.append(s)\n",
    "\n",
    "    return fileStateAtRuns"
   ]
  },
  {
   "cell_type": "code",
   "execution_count": null,
   "metadata": {},
   "outputs": [],
   "source": [
    "def reconstructProjectAtRunEvents(df):\n",
    "    '''\n",
    "    Reconstruct a whole project and save it's state at different run events\n",
    "\n",
    "    df - A dataframe containing a single student, for a single assignment, \n",
    "            and one+ files. Must have edit events and run events\n",
    "\n",
    "    Returns: A dictionary containing keys for each file name, with values that are a list\n",
    "                of strings, representing each file state at different run events\n",
    "\n",
    "    NOTE: Some files may always be empty in their states. This happens when students make meaningful \n",
    "            edits to files, but delete it's contents before running their code\n",
    "    '''\n",
    "\n",
    "    # Remove NaN edit events to ensure that only meaningful edits are logged\n",
    "    df = df[\n",
    "          ( df.EventType != 'File.Edit' )\n",
    "          | ( ( df.EventType == 'File.Edit' )\n",
    "            & ~ ( ( pd.isna(df.InsertText) ) \n",
    "                & ( pd.isna(df.DeleteText) ) \n",
    "                )\n",
    "              )\n",
    "        ]\n",
    "\n",
    "    allFileNames = df.CodeStateSection.unique()\n",
    "    \n",
    "    fileStates = dict()\n",
    "    currentFileContents = dict()\n",
    "    # Setup the fileStates dictionary for every file and the currentFileContents for each file\n",
    "    for fileName in allFileNames:\n",
    "        fileStates[fileName] = []\n",
    "        currentFileContents[fileName] = ''\n",
    "\n",
    "    for _,row in df.iterrows():\n",
    "        if row.EventType == 'File.Edit':\n",
    "            # Get the name of the file that was just edited\n",
    "            thisFileName = row.CodeStateSection\n",
    "\n",
    "            # Get edit information\n",
    "            i = int(row.SourceLocation)\n",
    "            insert = '' if pd.isna(row.InsertText) else row.InsertText\n",
    "            delete = '' if pd.isna(row.DeleteText) else row.DeleteText\n",
    "\n",
    "            # Make the edit and save the current state of the file\n",
    "            s = currentFileContents[thisFileName]\n",
    "            s = s[:i] + insert + s[i+len(delete):]\n",
    "            currentFileContents[thisFileName] = s\n",
    "            \n",
    "        elif row.EventType == 'Run.Program':\n",
    "            # Save all files at their current states\n",
    "\n",
    "            # We only want to save when a run is started\n",
    "            if row['X-Metadata'] != 'Start': continue\n",
    "\n",
    "            for fileName in allFileNames:\n",
    "                # Adding this extra newline causes the calculate_mid function to not crash\n",
    "                #   Adding a single newline shouldn't affect the midscore significantly, but it does seem to have a notable affect\n",
    "                fileStates[fileName].append(currentFileContents[fileName] + \"\\n\")\n",
    "\n",
    "    # Save all files at their final states\n",
    "    for fileName in allFileNames:\n",
    "        fileStates[fileName].append(currentFileContents[fileName])\n",
    "\n",
    "    return fileStates"
   ]
  },
  {
   "cell_type": "markdown",
   "metadata": {},
   "source": [
    "#### View Reconstructed Project"
   ]
  },
  {
   "cell_type": "code",
   "execution_count": null,
   "metadata": {},
   "outputs": [],
   "source": [
    "def viewFinalReconstructedProject(reconstructedFiles):\n",
    "    '''\n",
    "    View the final file states that get reconstructed\n",
    "\n",
    "    reconstructedFiles : A dictionary containing filenames as keys and a list\n",
    "        of said file at various states\n",
    "\n",
    "    Returns nothing, prints to the console\n",
    "    '''\n",
    "\n",
    "    for fileName in sorted(reconstructedFiles.keys()):\n",
    "        print(40*\"=\")\n",
    "        print(f\"file = {fileName}\")\n",
    "        print(40*\"=\")\n",
    "        print(reconstructedFiles[fileName][-1])"
   ]
  },
  {
   "cell_type": "code",
   "execution_count": null,
   "metadata": {},
   "outputs": [],
   "source": [
    "def viewReconstructedProjectStates(reconstructedFiles):\n",
    "    '''\n",
    "    View the project at all the different run states that get reconstructed\n",
    "\n",
    "    reconstructedFiles : A dictionary containing filenames as keys and a list\n",
    "        of said file at various states\n",
    "\n",
    "    Returns nothing, prints to the console\n",
    "    '''\n",
    "    numberOfStates = len(reconstructedFiles[reconstructedFiles.keys()[0]])\n",
    "\n",
    "    for stateNo in range(numberOfStates):\n",
    "        print(\"v\" * 40)\n",
    "        print(f\"Project State : {stateNo if stateNo != numberOfStates - 1 else 'FINAL'}\")\n",
    "        print(\"^\" * 40)\n",
    "        for fileName in sorted(reconstructedFiles.keys()):\n",
    "            print(40*\"=\")\n",
    "            print(f\"file = {fileName}\")\n",
    "            print(40*\"=\")\n",
    "            print(reconstructedFiles[fileName][stateNo])"
   ]
  },
  {
   "cell_type": "code",
   "execution_count": null,
   "metadata": {},
   "outputs": [],
   "source": [
    "student10df = getFileInStudentSubmissionRunsAndEdits(\n",
    "    keystroke_df, \n",
    "    'Student10',\n",
    "    'Assign10',\n",
    "    'wordinator.py'\n",
    "    )"
   ]
  },
  {
   "cell_type": "code",
   "execution_count": null,
   "metadata": {},
   "outputs": [],
   "source": [
    "student10FileStates = reconstructFileAtRunEvents(student10df)\n",
    "\n",
    "for i,fileState in enumerate(student10FileStates): \n",
    "    print(\"=\"*40)\n",
    "    print(f\"File State : {i}\")\n",
    "    print(\"=\"*40)\n",
    "    print(fileState)"
   ]
  },
  {
   "cell_type": "code",
   "execution_count": null,
   "metadata": {},
   "outputs": [],
   "source": [
    "student36df = getStudentSubmissionRunsAndEdits(\n",
    "    keystroke_df, \n",
    "    'Student36',\n",
    "    'Assign10',\n",
    "    )"
   ]
  },
  {
   "cell_type": "code",
   "execution_count": null,
   "metadata": {},
   "outputs": [],
   "source": [
    "display(student_df)"
   ]
  },
  {
   "cell_type": "code",
   "execution_count": null,
   "metadata": {},
   "outputs": [],
   "source": [
    "student36FileStates = reconstructProjectAtRunEvents(student36df)\n",
    "viewFinalReconstructedProject(student36FileStates)"
   ]
  },
  {
   "cell_type": "code",
   "execution_count": null,
   "metadata": {},
   "outputs": [],
   "source": [
    "# Get all students and project list\n",
    "def getStudentProjectList(students, df):\n",
    "    eachProject = []\n",
    "    runEvents = []\n",
    "    allData = []\n",
    "    for _,row in students.iterrows():\n",
    "        for i in students.columns[2:10]:\n",
    "            # print(row[1], i)\n",
    "            # arr.append((row[1],i))\n",
    "            temp = getStudentSubmission(df, row[1], i)\n",
    "            # print(temp)\n",
    "            eachProject.append(temp)\n",
    "            test = reconstructProjectAtRunEvents(temp)\n",
    "            runEvents.append(test)\n",
    "            # print(test)\n",
    "            allData.append((row[1], i, test))\n",
    "    return eachProject, runEvents, allData\n",
    "projects_df, run_events_df, final_data = getStudentProjectList(student_df, keystroke_df)\n",
    "\n",
    "# getFileInStudentSubmissionRunsAndEdits\n",
    "print(len(projects_df), len(run_events_df))"
   ]
  },
  {
   "cell_type": "code",
   "execution_count": null,
   "metadata": {},
   "outputs": [],
   "source": [
    "# Get all students with a submission for the assignment\n",
    "for student, assign, df in final_data:\n",
    "    if len(df) > 0:\n",
    "        print(student, assign)"
   ]
  },
  {
   "cell_type": "code",
   "execution_count": null,
   "metadata": {},
   "outputs": [],
   "source": [
    "for student, assign, df in final_data:\n",
    "    if len(df) > 0:\n",
    "        # print(len(df))\n",
    "        print(50*'=')\n",
    "        print(student, assign)\n",
    "        viewFinalReconstructedProject(df)\n",
    "        print(50*'=')\n"
   ]
  },
  {
   "cell_type": "markdown",
   "metadata": {},
   "source": [
    "## Add MID Library\n",
    "\n",
    "- 0-2 Likely Incremental\n",
    "- 2-2.5 Somewhat Incremental\n",
    "- 2.5-3 Somewhat Non-Incremental\n",
    "- 3+ Likely Non-Incremental"
   ]
  },
  {
   "cell_type": "markdown",
   "metadata": {},
   "source": [
    "#### Calculate MID statistc for student and assignmemt"
   ]
  },
  {
   "cell_type": "code",
   "execution_count": null,
   "metadata": {},
   "outputs": [],
   "source": [
    "SUBJECT_ID_KEY = 'SubjectID'\n",
    "ASSIGNMENT_ID_KEY = 'AssignmentID'\n",
    "MID_SCORE_KEY = 'MID_Score'\n",
    "INCREMENTAL_KEY = 'Incremental' # boolean key in df, <=2.5 Incremental, >2.5 Non-Incremental\n",
    "ASSIGNMENT_SCORE_KEY = 'AssignmentScore'\n",
    "FINAL_SCORE_KEY = 'FinalScore'"
   ]
  },
  {
   "cell_type": "code",
   "execution_count": null,
   "metadata": {},
   "outputs": [],
   "source": [
    "def remove_empty_at_start(file_states):\n",
    "    '''\n",
    "    Function to remove empty strings at beginning of list\n",
    "\n",
    "    file_states: list of file states\n",
    "\n",
    "    returns a clean list\n",
    "    '''\n",
    "    index = -1\n",
    "    for i in range(len(file_states)):\n",
    "        if file_states[i] != '':\n",
    "            index = i\n",
    "            break\n",
    "    if index > -1:\n",
    "        return file_states[index:]\n",
    "    return file_states"
   ]
  },
  {
   "cell_type": "code",
   "execution_count": null,
   "metadata": {},
   "outputs": [],
   "source": [
    "# Test for fun\n",
    "fake_file_states = ['', '', '', '\\nfake', '\\nfake\\n', '\\nfak\\n', '\\nfake\\n', '\\n', '\\n']\n",
    "clean_fake_file_states = remove_empty_at_start(fake_file_states)\n",
    "print(fake_file_states)\n",
    "print(clean_fake_file_states)\n",
    "\n",
    "calculate_mid(fake_file_states)"
   ]
  },
  {
   "cell_type": "code",
   "execution_count": null,
   "metadata": {},
   "outputs": [],
   "source": [
    "def get_scores(student, assignment, student_df):\n",
    "    '''\n",
    "    Get the score the student got on the specified student\n",
    "\n",
    "    student: a string representing the SubjectID\n",
    "    assignment: a string representing the Assignment\n",
    "    student_df: a df containing the students grades\n",
    "\n",
    "    Returns: a dictionary of the student's score for the specified assignment, \n",
    "    and final score\n",
    "    None if there is no \n",
    "    '''\n",
    "    # TODO Maybe we want to add more scores, we can do that here\n",
    "    scores = dict()\n",
    "    if student in student_df[SUBJECT_ID_KEY].unique():\n",
    "        row_loc = student_df.loc[student_df[SUBJECT_ID_KEY] == student]\n",
    "        if assignment in row_loc:\n",
    "            scores[ASSIGNMENT_SCORE_KEY] = row_loc[assignment].values[0]\n",
    "            scores[FINAL_SCORE_KEY] = row_loc[FINAL_SCORE_KEY].values[0]\n",
    "    return scores"
   ]
  },
  {
   "cell_type": "code",
   "execution_count": null,
   "metadata": {},
   "outputs": [],
   "source": [
    "print(get_scores('Student10', 'Assign10', student_df))"
   ]
  },
  {
   "cell_type": "code",
   "execution_count": null,
   "metadata": {},
   "outputs": [],
   "source": [
    "def get_mid_score_row(student, assignment, mid_score):\n",
    "    '''\n",
    "    Get a dictionary containing necessary information to build a row\n",
    "    in the student dataframe with MID score\n",
    "    \n",
    "    student - a string representing the SubjectID to filter by\n",
    "    assignment - a strinng representing the filename to filter by\n",
    "    file - the name of the file in assignment\n",
    "    \n",
    "    Returns: A dictionary containing student, assignment, file, mid score\n",
    "    and whether or not the returned score is incremental or not\n",
    "    '''\n",
    "    scores = get_scores(student, assignment, student_df)\n",
    "    return {\n",
    "        SUBJECT_ID_KEY: student,\n",
    "        ASSIGNMENT_ID_KEY: assignment,\n",
    "        MID_SCORE_KEY: mid_score,\n",
    "        ASSIGNMENT_SCORE_KEY: scores[ASSIGNMENT_SCORE_KEY],\n",
    "        FINAL_SCORE_KEY: scores[FINAL_SCORE_KEY],\n",
    "        INCREMENTAL_KEY: 0 if mid_score > 2.5 else 1\n",
    "    }\n"
   ]
  },
  {
   "cell_type": "code",
   "execution_count": null,
   "metadata": {},
   "outputs": [],
   "source": [
    "def get_mid_score_all(final_data):\n",
    "    '''\n",
    "    Creates a dataframe for a student, assignment, mid score, final score, \n",
    "    assignment score and the incremental information\n",
    "\n",
    "    final_data - multiple tuples containing a single student, for a single assignment, \n",
    "        and file states.\n",
    "\n",
    "    Returns: A dataframe for all specified student containing the mid score\n",
    "    and whether or not the student used incremental development\n",
    "    '''\n",
    "    mid_score_df = pd.DataFrame()\n",
    "    for student, assignment, file_states in final_data:\n",
    "        if len(file_states) == 0:\n",
    "            continue\n",
    "        all_file_states = []\n",
    "        for _, state in file_states.items():\n",
    "            clean_state = remove_empty_at_start(state)\n",
    "            all_file_states += clean_state\n",
    "        try:\n",
    "            mid_score = calculate_mid(all_file_states)\n",
    "            row = pd.DataFrame(get_mid_score_row(student, assignment, mid_score), index=[0])\n",
    "            mid_score_df = pd.concat([mid_score_df, row], ignore_index=True)\n",
    "        except Exception as e:\n",
    "            print(\"Failed for student. Error:\", e)\n",
    "            print(len(all_file_states))\n",
    "    return mid_score_df"
   ]
  },
  {
   "cell_type": "code",
   "execution_count": null,
   "metadata": {},
   "outputs": [],
   "source": [
    "mid_df = get_mid_score_all(final_data)"
   ]
  },
  {
   "cell_type": "code",
   "execution_count": null,
   "metadata": {},
   "outputs": [],
   "source": [
    "mid_df.to_csv('./data/mid_scores.csv')"
   ]
  }
 ],
 "metadata": {
  "kernelspec": {
   "display_name": "venv",
   "language": "python",
   "name": "python3"
  },
  "language_info": {
   "codemirror_mode": {
    "name": "ipython",
    "version": 3
   },
   "file_extension": ".py",
   "mimetype": "text/x-python",
   "name": "python",
   "nbconvert_exporter": "python",
   "pygments_lexer": "ipython3",
   "version": "3.10.10"
  },
  "vscode": {
   "interpreter": {
    "hash": "5e7cd3a884995e5ac0fa852e707a391ad35b963e757ae698c795d1558dfb018c"
   }
  }
 },
 "nbformat": 4,
 "nbformat_minor": 2
}
