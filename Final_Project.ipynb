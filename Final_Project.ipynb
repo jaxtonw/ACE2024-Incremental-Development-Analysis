{
 "cells": [
  {
   "cell_type": "markdown",
   "metadata": {},
   "source": [
    "# Import All Necessary Modules And Setup Project\n",
    "\n",
    "If you get any errors when importing these, ensure you run the commands:\n",
    "```bash\n",
    "$ python -m pip install -r requirements.txt\n",
    "```\n",
    "to install all necessary modules for this project. This command must be run from inside of this project directory.\n",
    "\n",
    "It is recommended to use virtual environments for this project to ensure there is no conflicting package versions on your system.\n",
    "\n",
    "Activate the virtual environment (if needed), run the pip install command, and then launch Jupyter Lab inside this project to get this project running."
   ]
  },
  {
   "cell_type": "code",
   "execution_count": null,
   "metadata": {},
   "outputs": [],
   "source": [
    "# Uncomment the following line to execute the pip install\n",
    "# %pip install -r requirements.txt"
   ]
  },
  {
   "cell_type": "code",
   "execution_count": null,
   "metadata": {},
   "outputs": [],
   "source": [
    "import pandas as pd\n",
    "import numpy as np\n",
    "\n",
    "# Visualization\n",
    "from matplotlib import pyplot as plt\n",
    "import seaborn as sns\n"
   ]
  },
  {
   "cell_type": "markdown",
   "metadata": {},
   "source": [
    "## Load Datasets"
   ]
  },
  {
   "cell_type": "code",
   "execution_count": null,
   "metadata": {},
   "outputs": [],
   "source": [
    "keystroke_df_unedited = pd.read_csv(\"data/keystrokes.csv\")\n",
    "student_df_unedited = pd.read_csv(\"data/students.csv\")"
   ]
  },
  {
   "attachments": {},
   "cell_type": "markdown",
   "metadata": {},
   "source": [
    "#### Copy Datasets For Modification\n",
    "\n",
    "This preserves the initial datasets, in case we ever need to bring an unedited column/row back into anything"
   ]
  },
  {
   "cell_type": "code",
   "execution_count": null,
   "metadata": {},
   "outputs": [],
   "source": [
    "keystroke_df = keystroke_df_unedited.copy()\n",
    "student_df = student_df_unedited.copy()"
   ]
  },
  {
   "attachments": {},
   "cell_type": "markdown",
   "metadata": {},
   "source": [
    "## Get DF Representing Single Student Submission And File"
   ]
  },
  {
   "cell_type": "code",
   "execution_count": null,
   "metadata": {},
   "outputs": [],
   "source": [
    "def getFileInStudentSubmission(df, student, assignment, fileName):\n",
    "    '''\n",
    "    Returns a dataframe that shows all submission data for a single file on a given assignment, for a given student\n",
    "\n",
    "    df - a dataframe of keystroke data\n",
    "    student - a string representing the SubjectID to filter by\n",
    "    assignment - a strinng representing the filename to filter by\n",
    "    fileName - the name of the file to filter by\n",
    "\n",
    "    Returns a COPY of the dataframe, containing only the selected student, assignment, and file\n",
    "    '''\n",
    "    f = df[\n",
    "          (df.SubjectID == student)\n",
    "        & (df.AssignmentID == assignment)\n",
    "        & (df.CodeStateSection == fileName)\n",
    "        ].copy()\n",
    "    return f"
   ]
  },
  {
   "cell_type": "code",
   "execution_count": null,
   "metadata": {},
   "outputs": [],
   "source": [
    "def getStudentSubmission(df, student, assignment):\n",
    "    '''\n",
    "    Returns a dataframe that shows all submission data for all files on a given assignment, for a given student\n",
    "\n",
    "    df - a dataframe of keystroke data\n",
    "    student - a string representing the SubjectID to filter by\n",
    "    assignment - a string representing the filename to filter by\n",
    "    \n",
    "    Returns a COPY of the dataframe, containing only the selected student and assignment\n",
    "    '''\n",
    "    f = df[\n",
    "          (df.SubjectID == student)\n",
    "        & (df.AssignmentID == assignment)\n",
    "        ].copy()\n",
    "\n",
    "    return f"
   ]
  },
  {
   "cell_type": "code",
   "execution_count": null,
   "metadata": {},
   "outputs": [],
   "source": [
    "def filterDownToRunAndEdits(df):\n",
    "    return df[(\n",
    "            (df.EventType == 'File.Edit')\n",
    "          | (df.EventType == 'Run.Program')\n",
    "          )]"
   ]
  },
  {
   "cell_type": "code",
   "execution_count": null,
   "metadata": {},
   "outputs": [],
   "source": [
    "def filterDownToRunAndEditsAndPastes(df):\n",
    "    return df[(\n",
    "            (df.EventType == 'File.Edit')\n",
    "          | (df.EventType == 'Run.Program')\n",
    "          | (df.EventType == 'X-Paste')\n",
    "          )]"
   ]
  },
  {
   "cell_type": "code",
   "execution_count": null,
   "metadata": {},
   "outputs": [],
   "source": [
    "def getStudentSubmissionRunsAndEdits(df, student, assignment):\n",
    "    '''\n",
    "    Returns a dataframe that shows all submission data for a given assignment, for a given student, with only run and edit events\n",
    "\n",
    "    df - a dataframe of keystroke data\n",
    "    student - a string representing the SubjectID to filter by\n",
    "    assignment - a strinng representing the filename to filter by\n",
    "    '''\n",
    "    return filterDownToRunAndEdits(getStudentSubmission(df, student, assignment))"
   ]
  },
  {
   "cell_type": "code",
   "execution_count": null,
   "metadata": {},
   "outputs": [],
   "source": [
    "def getFileInStudentSubmissionRunsAndEdits(df, student, assignment, fileName):\n",
    "    '''\n",
    "    Returns a dataframe that shows all submission data for a single file on a given assignment, for a given student, with only run and edit events\n",
    "\n",
    "    df - a dataframe of keystroke data\n",
    "    student - a string representing the SubjectID to filter by\n",
    "    assignment - a strinng representing the filename to filter by\n",
    "    fileName - the name of the file to filter by\n",
    "    '''\n",
    "\n",
    "    return filterDownToRunAndEdits(getFileInStudentSubmission(df, student, assignment, fileName))"
   ]
  },
  {
   "attachments": {},
   "cell_type": "markdown",
   "metadata": {},
   "source": [
    "## Reconstruct Submissions"
   ]
  },
  {
   "cell_type": "code",
   "execution_count": null,
   "metadata": {},
   "outputs": [],
   "source": [
    "def reconstructSingleFileDebugger(df):\n",
    "    '''\n",
    "    See a submission as it gets reconstructed, ignoring the Run events\n",
    "\n",
    "    This is used primarily for debugging\n",
    "    '''\n",
    "\n",
    "    s = ''\n",
    "\n",
    "    fileStateCount = 0\n",
    "    for _,row in df[df.EventType=='File.Edit'].iterrows():\n",
    "        i = int(row.SourceLocation)\n",
    "        fileLengthRn = len(s)\n",
    "        if i > fileLengthRn:\n",
    "            print(\"DEBUG: Woah buddy, your cursor is out of bounds\")\n",
    "\n",
    "\n",
    "        insert = '' if pd.isna(row.InsertText) else row.InsertText\n",
    "        delete = '' if pd.isna(row.DeleteText) else row.DeleteText\n",
    "        s = s[:i] + insert + s[i+len(delete):]\n",
    "\n",
    "        print(f\"\"\"\\\n",
    "================\n",
    "StateNo : {fileStateCount}\n",
    "{i=}\n",
    "{insert=}\n",
    "{delete=}\n",
    "{row.EventID=}\n",
    "================\n",
    "{s}\n",
    "\"\"\")\n",
    "        fileStateCount += 1\n",
    "\n",
    "    return s"
   ]
  },
  {
   "cell_type": "code",
   "execution_count": null,
   "metadata": {},
   "outputs": [],
   "source": [
    "def reconstructFinalFile(df):\n",
    "    '''\n",
    "    Reconstruct a single file\n",
    "\n",
    "    df - A dataframe containing a single student, for a single assignment, \n",
    "            and a single file of that assignment\n",
    "\n",
    "    Returns: A string representing the final state of the file\n",
    "    '''\n",
    "\n",
    "    s = ''\n",
    "\n",
    "    for _,row in df[df.EventType=='File.Edit'].iterrows():\n",
    "        i = int(row.SourceLocation)\n",
    "\n",
    "        insert = '' if pd.isna(row.InsertText) else row.InsertText\n",
    "        delete = '' if pd.isna(row.DeleteText) else row.DeleteText\n",
    "        s = s[:i] + insert + s[i+len(delete):]\n",
    "    \n",
    "    return s"
   ]
  },
  {
   "cell_type": "code",
   "execution_count": null,
   "metadata": {},
   "outputs": [],
   "source": [
    "def reconstructFileAtRunEvents(df):\n",
    "    '''\n",
    "    Reconstruct a single file and save it's state at different run events\n",
    "\n",
    "    df - A dataframe containing a single student, for a single assignment, \n",
    "            and a single file of that assignment. Must have edit events and run events\n",
    "\n",
    "    Returns: A string representing the final state of the file\n",
    "    '''\n",
    "\n",
    "    fileStateAtRuns = []\n",
    "\n",
    "    s = ''\n",
    "\n",
    "    for _,row in df.iterrows():\n",
    "        if row.EventType == 'File.Edit':\n",
    "            i = int(row.SourceLocation)\n",
    "\n",
    "            insert = '' if pd.isna(row.InsertText) else row.InsertText\n",
    "            delete = '' if pd.isna(row.DeleteText) else row.DeleteText\n",
    "            s = s[:i] + insert + s[i+len(delete):]\n",
    "        elif row.EventType == 'Run.Program':\n",
    "            fileStateAtRuns.append(s)\n",
    "\n",
    "    fileStateAtRuns.append(s)\n",
    "\n",
    "    return fileStateAtRuns"
   ]
  },
  {
   "cell_type": "code",
   "execution_count": null,
   "metadata": {},
   "outputs": [],
   "source": [
    "student10df = getFileInStudentSubmissionRunsAndEdits(\n",
    "    keystroke_df, \n",
    "    'Student10',\n",
    "    'Assign10',\n",
    "    'wordinator.py'\n",
    "    )"
   ]
  },
  {
   "cell_type": "code",
   "execution_count": null,
   "metadata": {},
   "outputs": [],
   "source": [
    "student10df"
   ]
  },
  {
   "cell_type": "code",
   "execution_count": null,
   "metadata": {},
   "outputs": [],
   "source": [
    "student10FileStates = reconstructFileAtRunEvents(student10df)\n",
    "\n",
    "for i,fileState in enumerate(student10FileStates): \n",
    "    print(\"=\"*40)\n",
    "    print(f\"File State : {i}\")\n",
    "    print(\"=\"*40)\n",
    "    print(fileState)"
   ]
  }
 ],
 "metadata": {
  "kernelspec": {
   "display_name": "venv",
   "language": "python",
   "name": "python3"
  },
  "language_info": {
   "codemirror_mode": {
    "name": "ipython",
    "version": 3
   },
   "file_extension": ".py",
   "mimetype": "text/x-python",
   "name": "python",
   "nbconvert_exporter": "python",
   "pygments_lexer": "ipython3",
   "version": "3.10.10"
  },
  "vscode": {
   "interpreter": {
    "hash": "07ae73d8d6124c5eb4a36a8cd40b089dc63da2c02d3d7f8d7bd96e8acccf4263"
   }
  }
 },
 "nbformat": 4,
 "nbformat_minor": 2
}
