{
 "cells": [
  {
   "cell_type": "markdown",
   "metadata": {},
   "source": [
    "# Import All Necessary Modules And Setup Project\n",
    "\n",
    "If you get any errors when importing these, ensure you run the commands:\n",
    "```bash\n",
    "$ python -m pip install -r requirements.txt\n",
    "```\n",
    "to install all necessary modules for this project. This command must be run from inside of this project directory.\n",
    "\n",
    "It is recommended to use virtual environments for this project to ensure there is no conflicting package versions on your system.\n",
    "\n",
    "Activate the virtual environment (if needed), run the pip install command, and then launch Jupyter Lab inside this project to get this project running."
   ]
  },
  {
   "cell_type": "code",
   "execution_count": null,
   "metadata": {},
   "outputs": [],
   "source": [
    "# Uncomment the following line to execute the pip install\n",
    "# %pip install -r requirements.txt"
   ]
  },
  {
   "cell_type": "code",
   "execution_count": null,
   "metadata": {},
   "outputs": [],
   "source": [
    "import pandas as pd\n",
    "import numpy as np\n",
    "\n",
    "# Visualization\n",
    "from matplotlib import pyplot as plt\n",
    "import seaborn as sns\n",
    "\n",
    "from measure_incremental_development.compute import calculate_mid, classify_snapshots\n"
   ]
  },
  {
   "cell_type": "markdown",
   "metadata": {},
   "source": [
    "## Get DF Representing Single Student Submission And File"
   ]
  },
  {
   "cell_type": "code",
   "execution_count": null,
   "metadata": {},
   "outputs": [],
   "source": [
    "from getSubmissionDataframes import *"
   ]
  },
  {
   "attachments": {},
   "cell_type": "markdown",
   "metadata": {},
   "source": [
    "`getSubmissionDataframes` contains the following functions:\n",
    "\n",
    "*   `getFileInStudentSubmission`\n",
    "*   `getStudentSubmission`\n",
    "*   `filterDownToRunAndEdits`\n",
    "*   `filterDownToRunAndEditsAndPastes`\n",
    "*   `getStudentSubmissionRunsAndEdits`\n",
    "*   `getFileInStudentSubmissionRunsAndEdits`"
   ]
  },
  {
   "cell_type": "markdown",
   "metadata": {},
   "source": [
    "## Reconstruct Submissions"
   ]
  },
  {
   "cell_type": "code",
   "execution_count": null,
   "metadata": {},
   "outputs": [],
   "source": [
    "from reconstructSubmissions import *"
   ]
  },
  {
   "attachments": {},
   "cell_type": "markdown",
   "metadata": {},
   "source": [
    "`reconstructSubmissions` has the functions:\n",
    "\n",
    "*   `reconstructSingleFileDebugger`\n",
    "*   `reconstructFinalFile`\n",
    "*   `reconstructFileAtRunEvents`\n",
    "*   `reconstructProjectAtRunEvents`"
   ]
  },
  {
   "cell_type": "markdown",
   "metadata": {},
   "source": [
    "#### View Reconstructed Project"
   ]
  },
  {
   "cell_type": "code",
   "execution_count": null,
   "metadata": {},
   "outputs": [],
   "source": [
    "from viewReconstructions import *"
   ]
  },
  {
   "attachments": {},
   "cell_type": "markdown",
   "metadata": {},
   "source": [
    "`viewReconstructions` has the following functions:\n",
    "\n",
    "*   `viewFinalReconstructedProject`\n",
    "*   `viewReconstructedProjectStates`"
   ]
  },
  {
   "attachments": {},
   "cell_type": "markdown",
   "metadata": {},
   "source": [
    "#### Get Student Project Info"
   ]
  },
  {
   "cell_type": "code",
   "execution_count": null,
   "metadata": {},
   "outputs": [],
   "source": [
    "from getStudentProjectInfo import *"
   ]
  },
  {
   "attachments": {},
   "cell_type": "markdown",
   "metadata": {},
   "source": [
    "`getStudentProjectInfo` has the following function:\n",
    "\n",
    "*   `getStudentProjectList`"
   ]
  },
  {
   "attachments": {},
   "cell_type": "markdown",
   "metadata": {},
   "source": [
    "#### Filter Out Bad Reconstructions"
   ]
  },
  {
   "cell_type": "code",
   "execution_count": null,
   "metadata": {},
   "outputs": [],
   "source": [
    "from filterOutBadReconstructions import *"
   ]
  },
  {
   "attachments": {},
   "cell_type": "markdown",
   "metadata": {},
   "source": [
    "`filterOutBadReconstructions` has the following functions:\n",
    "\n",
    "*   `getFileReconstructionDF`\n",
    "    *   Get the raw file reconstructions dataframe\n",
    "*   `getProjectReconstructionDF`\n",
    "    *   Same as above, but if any file in a project fails at reconstructing, the whole project is marked as a failed reconstruction\n",
    "*   `getOnlyBadFileReconstructionsDF`\n",
    "    *   Get a DF like `getFileReconstructionDF` returns, containing *ONLY* the bad file reconstructions\n",
    "*   `getOnlyBadProjectReconstructions`\n",
    "    *   Get a DF like `getProjectReconstructionDF` returns, containing *ONLY* the bad project reconstructions\n",
    "*   `mergeKeystrokesWithFileReconstructions`\n",
    "    *   Merge a keystroke dataframe with the *file* reconstruction df on `SubjectID, AssignmentID, CodeStateSection`\n",
    "*   `mergeKeystrokesWithProjectReconstructions`\n",
    "    *   Merge a keystroke dataframe with the *project* reconstruction df on `SubjectID, AssignmentID`\n",
    "*   `getKeystrokesDFWithoutBadFileReconstructions`\n",
    "    *   Filter down the keystroke dataframe to remove information related to *files* that reconstruct incorrectly\n",
    "*   `getKeystrokesDFWithoutBadProjectReconstructions`\n",
    "    *   Filter down the keystroke dataframe to remove information related to *projects* that reconstruct incorrectly\n",
    "\n",
    "Unless granularity of the keystroke data is desired, the `getKeystrokesDFWithoutBadProjectReconstructions` will probably be the only needed function.\n",
    "\n",
    "NOTE: The reconstruction data used for these functions was generated by the `checkSubmissions.sh` script and `determineReconstructionFailures.ipynb` notebook."
   ]
  },
  {
   "cell_type": "markdown",
   "metadata": {},
   "source": [
    "## Load Datasets"
   ]
  },
  {
   "cell_type": "code",
   "execution_count": null,
   "metadata": {},
   "outputs": [],
   "source": [
    "keystroke_df_unedited = pd.read_csv(\"data/keystrokes.csv\")\n",
    "student_df_unedited = pd.read_csv(\"data/students.csv\")"
   ]
  },
  {
   "cell_type": "markdown",
   "metadata": {},
   "source": [
    "#### Copy Datasets For Modification\n",
    "\n",
    "This preserves the initial datasets, in case we ever need to bring an unedited column/row back into anything"
   ]
  },
  {
   "cell_type": "code",
   "execution_count": null,
   "metadata": {},
   "outputs": [],
   "source": [
    "keystroke_df = keystroke_df_unedited.copy()\n",
    "student_df = student_df_unedited.copy()"
   ]
  },
  {
   "attachments": {},
   "cell_type": "markdown",
   "metadata": {},
   "source": [
    "#### Filter Keystroke Data To Only Projects That Have Reconstructed Correctly"
   ]
  },
  {
   "cell_type": "code",
   "execution_count": null,
   "metadata": {},
   "outputs": [],
   "source": [
    "keystroke_df = getKeystrokesDFWithoutBadProjectReconstructions(keystroke_df)"
   ]
  },
  {
   "attachments": {},
   "cell_type": "markdown",
   "metadata": {},
   "source": [
    "#### Get Information And Keystroke Dataframes For Each `Student,Project` pair\n",
    "\n",
    "**NOTE:** This may take a few minutes to compute. "
   ]
  },
  {
   "cell_type": "code",
   "execution_count": null,
   "metadata": {},
   "outputs": [],
   "source": [
    "projects_df, run_events_df, final_data = getStudentProjectList(student_df, keystroke_df)\n",
    "\n",
    "print(len(projects_df), len(run_events_df))"
   ]
  },
  {
   "cell_type": "code",
   "execution_count": null,
   "metadata": {},
   "outputs": [],
   "source": [
    "# List all students with a submission for the assignment\n",
    "for student, assign, df in final_data:\n",
    "    if len(df) > 0:\n",
    "        print(student, assign)"
   ]
  },
  {
   "cell_type": "code",
   "execution_count": null,
   "metadata": {},
   "outputs": [],
   "source": [
    "for student, assign, df in final_data:\n",
    "    if len(df) > 0:\n",
    "        # print(len(df))\n",
    "        print(50*'=')\n",
    "        print(student, assign)\n",
    "        viewFinalReconstructedProject(df)\n",
    "        print(50*'=')\n"
   ]
  },
  {
   "cell_type": "markdown",
   "metadata": {},
   "source": [
    "## Add MID Library\n",
    "\n",
    "- 0-2 Likely Incremental\n",
    "- 2-2.5 Somewhat Incremental\n",
    "- 2.5-3 Somewhat Non-Incremental\n",
    "- 3+ Likely Non-Incremental"
   ]
  },
  {
   "cell_type": "markdown",
   "metadata": {},
   "source": [
    "#### Calculate MID statistc for student and assignmemt"
   ]
  },
  {
   "cell_type": "code",
   "execution_count": null,
   "metadata": {},
   "outputs": [],
   "source": [
    "from projectConstants import *\n",
    "from midScoreFunctions import *"
   ]
  },
  {
   "cell_type": "code",
   "execution_count": null,
   "metadata": {},
   "outputs": [],
   "source": [
    "print(get_scores('Student10', 'Assign10', student_df))"
   ]
  },
  {
   "cell_type": "code",
   "execution_count": null,
   "metadata": {},
   "outputs": [],
   "source": [
    "mid_df = get_mid_score_all(final_data, student_df)"
   ]
  },
  {
   "cell_type": "code",
   "execution_count": null,
   "metadata": {},
   "outputs": [],
   "source": [
    "mid_df.to_csv('./data/mid_scores.csv', index=False)"
   ]
  },
  {
   "attachments": {},
   "cell_type": "markdown",
   "metadata": {},
   "source": [
    "## Code to get the time between runs"
   ]
  },
  {
   "cell_type": "code",
   "execution_count": null,
   "metadata": {},
   "outputs": [],
   "source": [
    "DATE_TIME_KEY = 'DateTime'\n",
    "NEXT_DATE_TIME_KEY = 'NextDateTime'\n",
    "DIFF_KEY = 'Diff'\n",
    "DAYS_DIFF_KEY = 'DaysDiff'\n",
    "HOURS_DIFF_KEY = 'HoursDiff'\n",
    "MINUTES_DIFF_KEY = 'MinutesDiff'\n",
    "SECONDS_DIFF_KEY = 'SecondsDiff'\n",
    "SESSION_ID_KEY = 'SessionID'\n",
    "SESSION_TIME_KEY = 'SessionTimeMs'\n",
    "TOTAL_ASSIGNMENT_TIME_KEY = 'TotalAssignmentTimeMs'"
   ]
  },
  {
   "cell_type": "code",
   "execution_count": null,
   "metadata": {},
   "outputs": [],
   "source": [
    "def getTimestampRow(row):\n",
    "    '''Get a dictionary containing information for date time'''\n",
    "    return {\n",
    "        SUBJECT_ID_KEY: row[SUBJECT_ID_KEY],\n",
    "        ASSIGNMENT_ID_KEY: row[ASSIGNMENT_ID_KEY],\n",
    "        CLIENT_TIMESTAMP_KEY: row[CLIENT_TIMESTAMP_KEY],\n",
    "        DATE_TIME_KEY: pd.to_datetime(row.ClientTimestamp, unit='ms')       \n",
    "    }"
   ]
  },
  {
   "cell_type": "code",
   "execution_count": null,
   "metadata": {},
   "outputs": [],
   "source": [
    "def getFilteredRunEvents(df):\n",
    "    '''\n",
    "    Get run events with execution action and start events only\n",
    "    '''\n",
    "    runDf = pd.DataFrame()\n",
    "    \n",
    "    for _, row in df.iterrows():\n",
    "        if row.EventType == 'Run.Program':\n",
    "            if row['X-Metadata'] != 'Start':\n",
    "                continue\n",
    "            timeRow = pd.DataFrame(getTimestampRow(row), index=[0])\n",
    "            runDf = pd.concat([runDf, timeRow], ignore_index=True)\n",
    "    return runDf"
   ]
  },
  {
   "cell_type": "code",
   "execution_count": null,
   "metadata": {},
   "outputs": [],
   "source": [
    "runEvents = getFilteredRunEvents(keystroke_df)"
   ]
  },
  {
   "cell_type": "code",
   "execution_count": null,
   "metadata": {},
   "outputs": [],
   "source": [
    "def getTimeBetweenRuns(df, student, assignment):\n",
    "    '''Get time between runs for a student and assignment'''\n",
    "    studentRunsDf = df[(df.SubjectID == student)&(df.AssignmentID == assignment)]\n",
    "    studentRunsDf.sort_values(by=DATE_TIME_KEY, inplace=True)\n",
    "    studentRunsDf[NEXT_DATE_TIME_KEY] = studentRunsDf[DATE_TIME_KEY].shift(-1)\n",
    "    studentRunsDf[DIFF_KEY] = studentRunsDf[NEXT_DATE_TIME_KEY] - studentRunsDf[DATE_TIME_KEY]\n",
    "    studentRunsDf[DAYS_DIFF_KEY] = round((studentRunsDf[NEXT_DATE_TIME_KEY] - studentRunsDf[DATE_TIME_KEY]).dt.days)\n",
    "    studentRunsDf[HOURS_DIFF_KEY] = round((studentRunsDf[NEXT_DATE_TIME_KEY] - studentRunsDf[DATE_TIME_KEY]).dt.seconds / 3600.0, 2)\n",
    "    studentRunsDf[MINUTES_DIFF_KEY] = round((studentRunsDf[NEXT_DATE_TIME_KEY] - studentRunsDf[DATE_TIME_KEY]).dt.seconds / 60.0, 2)\n",
    "    studentRunsDf[SECONDS_DIFF_KEY] = round((studentRunsDf[NEXT_DATE_TIME_KEY] - studentRunsDf[DATE_TIME_KEY]).dt.seconds, 2)\n",
    "    return studentRunsDf"
   ]
  },
  {
   "cell_type": "code",
   "execution_count": null,
   "metadata": {},
   "outputs": [],
   "source": [
    "def getTimeBetweenRunsDf(keystroke_df, final_data):\n",
    "    '''Get time between runs for each student'''\n",
    "    runEvents = getFilteredRunEvents(keystroke_df)\n",
    "    timeDifferenceDf = pd.DataFrame()\n",
    "    for student, assignment, _ in final_data:\n",
    "        studentDf = getTimeBetweenRuns(runEvents, student, assignment)\n",
    "        timeDifferenceDf = pd.concat([timeDifferenceDf, studentDf], ignore_index=True)\n",
    "    return timeDifferenceDf"
   ]
  },
  {
   "cell_type": "code",
   "execution_count": null,
   "metadata": {},
   "outputs": [],
   "source": [
    "timeBetweenRunsDf = getTimeBetweenRunsDf(keystroke_df, final_data)"
   ]
  },
  {
   "cell_type": "code",
   "execution_count": null,
   "metadata": {},
   "outputs": [],
   "source": [
    "display(timeBetweenRunsDf)\n",
    "timeBetweenRunsDf.to_csv('./data/timeBetweenRuns.csv')"
   ]
  },
  {
   "attachments": {},
   "cell_type": "markdown",
   "metadata": {},
   "source": [
    "## Get Coding Sessions\n",
    "#### Defined as keypresses within 5 minutes of eachother"
   ]
  },
  {
   "cell_type": "code",
   "execution_count": null,
   "metadata": {},
   "outputs": [],
   "source": [
    "# use complete keystroke data\n",
    "# student, assignment, number of coding sessions\n",
    "\n",
    "def getCodingSessionsForAssignment(df, student, assignment):\n",
    "    '''coding sessions end after more than 5 minutes from last event'''\n",
    "    studentAssignmentDf = df[(df.SubjectID == student)&(df.AssignmentID == assignment)]\n",
    "    # studentAssignmentDf = studentAssignmentDf[SUBJECT_ID_KEY, ASSIGNMENT_ID_KEY, CLIENT_TIMESTAMP_KEY]\n",
    "    # convert client timestamp to date time\n",
    "    studentAssignmentDf[DATE_TIME_KEY] = pd.to_datetime(studentAssignmentDf.ClientTimestamp, unit='ms') \n",
    "    studentAssignmentDf[SESSION_ID_KEY] = -1\n",
    "    # sort by timestamp\n",
    "    studentAssignmentDf.sort_values(by=DATE_TIME_KEY, inplace=True)\n",
    "    # give session number , if within 5 minutes, keep that session number numbers\n",
    "    if studentAssignmentDf.size > 0: \n",
    "        lastEventTime = studentAssignmentDf.head(1)[DATE_TIME_KEY].values[0]\n",
    "    # 5 minutes from last event, not start of the session\n",
    "    sessionId = 0\n",
    "    for i, row in studentAssignmentDf.iterrows():\n",
    "        diff = row[DATE_TIME_KEY] - lastEventTime\n",
    "        minutes_diff = diff.total_seconds() / 60\n",
    "        if minutes_diff > 5:\n",
    "            sessionId += 1\n",
    "        studentAssignmentDf.at[i,SESSION_ID_KEY] = sessionId\n",
    "        lastEventTime = row[DATE_TIME_KEY]\n",
    "    return studentAssignmentDf "
   ]
  },
  {
   "cell_type": "code",
   "execution_count": null,
   "metadata": {},
   "outputs": [],
   "source": [
    "def getTimeSpentPerSession(df):\n",
    "    '''Get total time spent per session'''\n",
    "    codingSessionDf = pd.DataFrame()\n",
    "    sessionIds = df[SESSION_ID_KEY].unique()\n",
    "    for sessionId in sessionIds:\n",
    "        sessionDf = df[(df[SESSION_ID_KEY] == sessionId)]\n",
    "        # sort by dates just in case\n",
    "        sessionDf.sort_values(by=DATE_TIME_KEY, inplace=True)\n",
    "        # subtract start session time and end session time to get total session time\n",
    "        startTime = sessionDf.head(1)[CLIENT_TIMESTAMP_KEY].values[0]\n",
    "        endTime = sessionDf.tail(1)[CLIENT_TIMESTAMP_KEY].values[0]\n",
    "        sessionTime = endTime - startTime\n",
    "        sessionDf[SESSION_TIME_KEY] = sessionTime\n",
    "        codingSessionDf = pd.concat([codingSessionDf, sessionDf], ignore_index=True)\n",
    "    return codingSessionDf"
   ]
  },
  {
   "cell_type": "code",
   "execution_count": null,
   "metadata": {},
   "outputs": [],
   "source": [
    "def getTimeSpentPerAssignment(df):\n",
    "    '''get total time spent per assignment using coding session time'''\n",
    "    assignmentTimeDf = pd.DataFrame()\n",
    "    assignments = df[ASSIGNMENT_ID_KEY].unique()\n",
    "    for assignment in assignments:\n",
    "        assignmentDf = df[(df[ASSIGNMENT_ID_KEY] == assignment)]\n",
    "        # get unique session times\n",
    "        sessionTimes = assignmentDf[SESSION_TIME_KEY].unique()\n",
    "        # add all times in list\n",
    "        totalAssignmentTime = sum(sessionTimes)\n",
    "        assignmentDf[TOTAL_ASSIGNMENT_TIME_KEY] = totalAssignmentTime\n",
    "        assignmentTimeDf = pd.concat([assignmentTimeDf, assignmentDf], ignore_index=True)\n",
    "    return assignmentTimeDf"
   ]
  },
  {
   "cell_type": "code",
   "execution_count": null,
   "metadata": {},
   "outputs": [],
   "source": [
    "def getCodingSessionsDf(keystroke_df, final_data):\n",
    "    '''Get coding session for each student and assignment, where coding session is within 5 minutes'''\n",
    "    runEvents = getFilteredRunEvents(keystroke_df)\n",
    "    codingSessionDf = pd.DataFrame()\n",
    "    for student, assignment, _ in final_data:\n",
    "        codingSessionAssignmentDf = getCodingSessionsForAssignment(runEvents, student, assignment)\n",
    "        # get time on assignment\n",
    "        # time spent per session\n",
    "        codingSessionTimeDf = getTimeSpentPerSession(codingSessionAssignmentDf)\n",
    "        # total time spent per assignment\n",
    "        if codingSessionTimeDf.size > 0:\n",
    "            codingSessionTimeTotalDf = getTimeSpentPerAssignment(codingSessionTimeDf)\n",
    "            codingSessionDf = pd.concat([codingSessionDf, codingSessionTimeTotalDf], ignore_index=True)\n",
    "    return codingSessionDf"
   ]
  },
  {
   "cell_type": "code",
   "execution_count": null,
   "metadata": {},
   "outputs": [],
   "source": [
    "codingSessions = getCodingSessionsDf(keystroke_df, final_data)"
   ]
  },
  {
   "cell_type": "code",
   "execution_count": null,
   "metadata": {},
   "outputs": [],
   "source": [
    "codingSessions.to_csv('./data/codingSessions.csv')"
   ]
  }
 ],
 "metadata": {
  "kernelspec": {
   "display_name": "venv",
   "language": "python",
   "name": "python3"
  },
  "language_info": {
   "codemirror_mode": {
    "name": "ipython",
    "version": 3
   },
   "file_extension": ".py",
   "mimetype": "text/x-python",
   "name": "python",
   "nbconvert_exporter": "python",
   "pygments_lexer": "ipython3",
   "version": "3.10.10"
  },
  "vscode": {
   "interpreter": {
    "hash": "5e7cd3a884995e5ac0fa852e707a391ad35b963e757ae698c795d1558dfb018c"
   }
  }
 },
 "nbformat": 4,
 "nbformat_minor": 2
}
