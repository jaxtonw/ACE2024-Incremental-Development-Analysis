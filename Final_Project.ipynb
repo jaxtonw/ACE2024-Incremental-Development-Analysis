{
 "cells": [
  {
   "cell_type": "markdown",
   "metadata": {},
   "source": [
    "# Import All Necessary Modules And Setup Project\n",
    "\n",
    "If you get any errors when importing these, ensure you run the commands:\n",
    "```bash\n",
    "$ python -m pip install -r requirements.txt\n",
    "```\n",
    "to install all necessary modules for this project. This command must be run from inside of this project directory.\n",
    "\n",
    "It is recommended to use virtual environments for this project to ensure there is no conflicting package versions on your system.\n",
    "\n",
    "Activate the virtual environment (if needed), run the pip install command, and then launch Jupyter Lab inside this project to get this project running."
   ]
  },
  {
   "cell_type": "code",
   "execution_count": null,
   "metadata": {},
   "outputs": [],
   "source": [
    "# Uncomment the following line to execute the pip install\n",
    "# %pip install -r requirements.txt"
   ]
  },
  {
   "cell_type": "code",
   "execution_count": null,
   "metadata": {},
   "outputs": [],
   "source": [
    "import pandas as pd\n",
    "import numpy as np\n",
    "\n",
    "# Visualization\n",
    "from matplotlib import pyplot as plt\n",
    "import seaborn as sns\n",
    "\n",
    "from measure_incremental_development.compute import calculate_mid, classify_snapshots\n"
   ]
  },
  {
   "attachments": {},
   "cell_type": "markdown",
   "metadata": {},
   "source": [
    "## Import Auxiliary Modules and Functions"
   ]
  },
  {
   "cell_type": "code",
   "execution_count": null,
   "metadata": {},
   "outputs": [],
   "source": [
    "from projectConstants import *"
   ]
  },
  {
   "attachments": {},
   "cell_type": "markdown",
   "metadata": {},
   "source": [
    "`projectConstants` defines various constants (namely, column names) that are used throughout the project."
   ]
  },
  {
   "cell_type": "code",
   "execution_count": null,
   "metadata": {},
   "outputs": [],
   "source": [
    "from getSubmissionDataframes import *"
   ]
  },
  {
   "attachments": {},
   "cell_type": "markdown",
   "metadata": {},
   "source": [
    "`getSubmissionDataframes` contains the following functions:\n",
    "\n",
    "*   `getFileInStudentSubmission`\n",
    "*   `getStudentSubmission`\n",
    "*   `filterDownToRunAndEdits`\n",
    "*   `filterDownToRunAndEditsAndPastes`\n",
    "*   `getStudentSubmissionRunsAndEdits`\n",
    "*   `getFileInStudentSubmissionRunsAndEdits`"
   ]
  },
  {
   "cell_type": "code",
   "execution_count": null,
   "metadata": {},
   "outputs": [],
   "source": [
    "from reconstructSubmissions import *"
   ]
  },
  {
   "attachments": {},
   "cell_type": "markdown",
   "metadata": {},
   "source": [
    "`reconstructSubmissions` has the functions:\n",
    "\n",
    "*   `reconstructSingleFileDebugger`\n",
    "*   `reconstructFinalFile`\n",
    "*   `reconstructFileAtRunEvents`\n",
    "*   `reconstructProjectAtRunEvents`"
   ]
  },
  {
   "cell_type": "code",
   "execution_count": null,
   "metadata": {},
   "outputs": [],
   "source": [
    "from viewReconstructions import *"
   ]
  },
  {
   "attachments": {},
   "cell_type": "markdown",
   "metadata": {},
   "source": [
    "`viewReconstructions` has the following functions:\n",
    "\n",
    "*   `viewFinalReconstructedProject`\n",
    "*   `viewReconstructedProjectStates`"
   ]
  },
  {
   "cell_type": "code",
   "execution_count": null,
   "metadata": {},
   "outputs": [],
   "source": [
    "from getStudentProjectInfo import *"
   ]
  },
  {
   "attachments": {},
   "cell_type": "markdown",
   "metadata": {},
   "source": [
    "`getStudentProjectInfo` has the following function:\n",
    "\n",
    "*   `getStudentProjectList`"
   ]
  },
  {
   "cell_type": "code",
   "execution_count": null,
   "metadata": {},
   "outputs": [],
   "source": [
    "from filterOutBadReconstructions import *"
   ]
  },
  {
   "attachments": {},
   "cell_type": "markdown",
   "metadata": {},
   "source": [
    "`filterOutBadReconstructions` has the following functions:\n",
    "\n",
    "*   `getFileReconstructionDF`\n",
    "    *   Get the raw file reconstructions dataframe\n",
    "*   `getProjectReconstructionDF`\n",
    "    *   Same as above, but if any file in a project fails at reconstructing, the whole project is marked as a failed reconstruction\n",
    "*   `getOnlyBadFileReconstructionsDF`\n",
    "    *   Get a DF like `getFileReconstructionDF` returns, containing *ONLY* the bad file reconstructions\n",
    "*   `getOnlyBadProjectReconstructions`\n",
    "    *   Get a DF like `getProjectReconstructionDF` returns, containing *ONLY* the bad project reconstructions\n",
    "*   `mergeKeystrokesWithFileReconstructions`\n",
    "    *   Merge a keystroke dataframe with the *file* reconstruction df on `SubjectID, AssignmentID, CodeStateSection`\n",
    "*   `mergeKeystrokesWithProjectReconstructions`\n",
    "    *   Merge a keystroke dataframe with the *project* reconstruction df on `SubjectID, AssignmentID`\n",
    "*   `getKeystrokesDFWithoutBadFileReconstructions`\n",
    "    *   Filter down the keystroke dataframe to remove information related to *files* that reconstruct incorrectly\n",
    "*   `getKeystrokesDFWithoutBadProjectReconstructions`\n",
    "    *   Filter down the keystroke dataframe to remove information related to *projects* that reconstruct incorrectly\n",
    "\n",
    "Unless granularity of the keystroke data is desired, the `getKeystrokesDFWithoutBadProjectReconstructions` will probably be the only needed function.\n",
    "\n",
    "NOTE: The reconstruction data used for these functions was generated by the `checkSubmissions.sh` script and `determineReconstructionFailures.ipynb` notebook."
   ]
  },
  {
   "cell_type": "code",
   "execution_count": null,
   "metadata": {},
   "outputs": [],
   "source": [
    "from midScoreFunctions import *"
   ]
  },
  {
   "attachments": {},
   "cell_type": "markdown",
   "metadata": {},
   "source": [
    "`midScoreFunctions` has the following functions:\n",
    "\n",
    "*   `remove_empty_at_start`\n",
    "*   `get_scores`\n",
    "*   `get_mid_score_row`\n",
    "*   `get_mid_score_all`"
   ]
  },
  {
   "cell_type": "code",
   "execution_count": null,
   "metadata": {},
   "outputs": [],
   "source": [
    "from timeBetweenRuns import *"
   ]
  },
  {
   "attachments": {},
   "cell_type": "markdown",
   "metadata": {},
   "source": [
    "`timeBetweenRuns` has the following functions:\n",
    "\n",
    "*   `getTimestampRow`\n",
    "*   `getFilteredRunEvents`\n",
    "*   `getTimeBetweenRuns`\n",
    "*   `getTimeBetweenRunsDf`"
   ]
  },
  {
   "cell_type": "code",
   "execution_count": null,
   "metadata": {},
   "outputs": [],
   "source": [
    "# from codingSessionFunctions import *\n",
    "import codingSessionFunctions"
   ]
  },
  {
   "attachments": {},
   "cell_type": "markdown",
   "metadata": {},
   "source": [
    "`codingSessionFunctions` has the following functions:\n",
    "\n",
    "*   `getCodingSessionsForAssignment`\n",
    "*   `getTimeSpentPerSession`\n",
    "*   `getTimeSpentPerAssignment`\n",
    "*   `getCodingSessionsDf`"
   ]
  },
  {
   "cell_type": "markdown",
   "metadata": {},
   "source": [
    "## Load Datasets"
   ]
  },
  {
   "cell_type": "code",
   "execution_count": null,
   "metadata": {},
   "outputs": [],
   "source": [
    "keystroke_df_unedited = pd.read_csv(\"data/keystrokes.csv\")\n",
    "student_df_unedited = pd.read_csv(\"data/students.csv\")"
   ]
  },
  {
   "cell_type": "markdown",
   "metadata": {},
   "source": [
    "#### Copy Datasets For Modification\n",
    "\n",
    "This preserves the initial datasets, in case we ever need to bring an unedited column/row back into anything"
   ]
  },
  {
   "cell_type": "code",
   "execution_count": null,
   "metadata": {},
   "outputs": [],
   "source": [
    "keystroke_df = keystroke_df_unedited.copy()\n",
    "student_df = student_df_unedited.copy()"
   ]
  },
  {
   "attachments": {},
   "cell_type": "markdown",
   "metadata": {},
   "source": [
    "#### Filter Keystroke Data To Only Projects That Have Reconstructed Correctly"
   ]
  },
  {
   "cell_type": "code",
   "execution_count": null,
   "metadata": {},
   "outputs": [],
   "source": [
    "keystroke_df = getKeystrokesDFWithoutBadProjectReconstructions(keystroke_df)"
   ]
  },
  {
   "attachments": {},
   "cell_type": "markdown",
   "metadata": {},
   "source": [
    "#### Get Information And Keystroke Dataframes For Each `Student,Project` pair\n",
    "\n",
    "**NOTE:** This may take a few minutes to compute. "
   ]
  },
  {
   "cell_type": "code",
   "execution_count": null,
   "metadata": {},
   "outputs": [],
   "source": [
    "projects_df, run_events_df, final_data = getStudentProjectList(student_df, keystroke_df)\n",
    "\n",
    "print(len(projects_df), len(run_events_df))"
   ]
  },
  {
   "cell_type": "code",
   "execution_count": null,
   "metadata": {},
   "outputs": [],
   "source": [
    "# List all students with a submission for the assignment\n",
    "BREAK\n",
    "for student, assign, df in final_data:\n",
    "    if len(df) > 0:\n",
    "        print(student, assign)"
   ]
  },
  {
   "cell_type": "code",
   "execution_count": null,
   "metadata": {},
   "outputs": [],
   "source": [
    "for student, assign, df in final_data:\n",
    "    if len(df) > 0:\n",
    "        # print(len(df))\n",
    "        print(50*'=')\n",
    "        print(student, assign)\n",
    "        viewFinalReconstructedProject(df)\n",
    "        print(50*'=')\n"
   ]
  },
  {
   "attachments": {},
   "cell_type": "markdown",
   "metadata": {},
   "source": [
    "## Coding Session Functions"
   ]
  },
  {
   "cell_type": "code",
   "execution_count": null,
   "metadata": {},
   "outputs": [],
   "source": []
  },
  {
   "cell_type": "code",
   "execution_count": null,
   "metadata": {},
   "outputs": [],
   "source": [
    "from projectConstants import *\n",
    "import pandas as pd\n",
    "import numpy as np\n",
    "\n",
    "from timeBetweenRuns import *\n",
    "\n",
    "SESSION_COUNT_KEY = 'SessionCount'\n",
    "FIRST_SESSION_START_KEY = 'FirstSessionStart'\n",
    "LAST_SESSION_END_KEY = 'LastSessionEnd'\n",
    "NUMBER_KEYSTROKES_KEY = 'NumberKeystrokes'\n",
    "AVG_KEYDIFF_TIME_KEY = 'AvgKeyDiffTime'\n",
    "\n",
    "# use complete keystroke data\n",
    "# student, assignment, number of coding sessions\n",
    "def markEventsByCodingSessions(df, student, assignment):\n",
    "    '''\n",
    "    For a specific (student, assignment) pair, make a new dataframe that marks all these events with a coding session\n",
    "\n",
    "    Coding sessions end if there's more than 5 minutes from last event\n",
    "    '''\n",
    "    assnSessionDf = df[\n",
    "        (df.SubjectID == student) & (df.AssignmentID == assignment)\n",
    "        & (\n",
    "        # We do not want any X-Attention events or Editor Close Actions\n",
    "          ~ (\n",
    "              ( df.EventType == 'X-Attention' )\n",
    "            | ( ( df.EventType == 'X-Action' ) & (df['X-Metadata'] == 'Close Active Editor')\n",
    "            )\n",
    "          )\n",
    "        )\n",
    "        ].copy()\n",
    "    # assnSessionDf = assnSessionDf[SUBJECT_ID_KEY, ASSIGNMENT_ID_KEY, CLIENT_TIMESTAMP_KEY]\n",
    "    # convert client timestamp to date time\n",
    "    assnSessionDf[DATE_TIME_KEY] = pd.to_datetime(assnSessionDf.ClientTimestamp, unit='ms') \n",
    "    assnSessionDf[SESSION_ID_KEY] = -1\n",
    "    assnSessionDf[EVENT_TIME_DIFF_KEY] = np.NaN\n",
    "    # assnSessionDf[EVENT_TIME_DIFF_KEY].astype(float)\n",
    "\n",
    "    # sort by timestamp\n",
    "    assnSessionDf.sort_values(by=DATE_TIME_KEY, inplace=True)\n",
    "    # give session number , if within 5 minutes, keep that session number numbers\n",
    "    if assnSessionDf.size > 0:\n",
    "        lastEventTime = assnSessionDf.head(1)[DATE_TIME_KEY].values[0]\n",
    "    # 5 minutes from last event, not start of the session\n",
    "    sessionId = 0\n",
    "    for i, row in assnSessionDf.iterrows():\n",
    "        diff = row[DATE_TIME_KEY] - lastEventTime\n",
    "        minutes_diff = diff.total_seconds() / 60\n",
    "        if minutes_diff > 5:\n",
    "            sessionId += 1\n",
    "            # assnSessionDf.at[i, EVENT_TIME_DIFF_KEY] = np.NaN\n",
    "        else:\n",
    "            # If this event is still part of the same coding session, we note the diff time\n",
    "            # If it's not, leave it as NaN\n",
    "            assnSessionDf.at[i, EVENT_TIME_DIFF_KEY] = diff.total_seconds()\n",
    "        assnSessionDf.at[i,SESSION_ID_KEY] = sessionId\n",
    "        lastEventTime = row[DATE_TIME_KEY]\n",
    "\n",
    "    # Add time diff between events column in this function\n",
    "        #   First event has NaN\n",
    "        #   Other events have NNaN\n",
    "\n",
    "    # Do I reduce the DF here?\n",
    "    return assnSessionDf\n",
    "\n",
    "\n",
    "def getIndividualSessionInfo(df):\n",
    "    '''\n",
    "    Get information for each coding sesssion for a given (Student,Assignment)\n",
    "\n",
    "    df should contain keystroke/event data for a given student/assignment with session numbers and time-diffs between sessions marked\n",
    "        (See markEventsByCodingSessions)\n",
    "    \n",
    "    '''\n",
    "    if df.size == 0:\n",
    "        return None\n",
    "\n",
    "    # This dataframe should only be for one (Student,Assignment)\n",
    "\n",
    "    allSessionIds = df[SESSION_ID_KEY].unique()\n",
    "    student = df.head(1)[SUBJECT_ID_KEY].values[0]\n",
    "    assn = df.head(1)[ASSIGNMENT_ID_KEY].values[0]\n",
    "\n",
    "    studentSessionID = [student] * len(allSessionIds)\n",
    "    assnSessionID = [assn] * len(allSessionIds)\n",
    "\n",
    "    sessionIdsColumn = []\n",
    "    sessionStartTimes = []\n",
    "    sessionEndTimes = []\n",
    "    sessionLengths = []\n",
    "    sessionNumEvents = []\n",
    "    sessionAvgKeyDiffTime = []\n",
    "\n",
    "    for sessionId in allSessionIds:\n",
    "        # Reduce df down to just this session\n",
    "        sessionDf = df[(df[SESSION_ID_KEY] == sessionId)].copy()\n",
    "        # sort by dates just in case\n",
    "        sessionDf.sort_values(by=DATE_TIME_KEY, inplace=True)\n",
    "        \n",
    "        startTime = sessionDf.head(1)[CLIENT_TIMESTAMP_KEY].values[0]\n",
    "        endTime = sessionDf.tail(1)[CLIENT_TIMESTAMP_KEY].values[0]\n",
    "        # subtract start session time and end session time to get total session time\n",
    "        lengthTime = endTime - startTime\n",
    "        \n",
    "        avgKeyDiffTime = sessionDf[EVENT_TIME_DIFF_KEY].mean()\n",
    "\n",
    "        # Add all data for this session to a list\n",
    "        sessionIdsColumn.append(sessionId)\n",
    "        sessionStartTimes.append(startTime)\n",
    "        sessionEndTimes.append(endTime)\n",
    "        sessionLengths.append(lengthTime)\n",
    "        sessionNumEvents.append(len(sessionDf))\n",
    "        sessionAvgKeyDiffTime.append(avgKeyDiffTime)\n",
    "\n",
    "        # codingSessionDf = pd.concat([codingSessionDf, sessionDf], ignore_index=True)\n",
    "    return pd.DataFrame(\n",
    "        {\n",
    "            SUBJECT_ID_KEY: studentSessionID,\n",
    "            ASSIGNMENT_ID_KEY: assnSessionID,\n",
    "            SESSION_ID_KEY: sessionIdsColumn,\n",
    "            SESSION_START_TIME_KEY: sessionStartTimes,\n",
    "            SESSION_END_TIME_KEY: sessionEndTimes,\n",
    "            SESSION_TIME_KEY: sessionLengths,\n",
    "            SESSION_KEYSTROKES_KEY: sessionNumEvents,\n",
    "            SESSION_AVG_KEYDIFF_TIME_KEY: sessionAvgKeyDiffTime\n",
    "        }\n",
    "    )\n",
    "\n",
    "def getCodingSessionsDf(keystroke_df, final_data):\n",
    "    '''Get coding session for each student and assignment, where coding session is within 5 minutes'''\n",
    "    # Make this function take all keystrokes, not just run events\n",
    "    # Make another function that finds the time between run events\n",
    "    # runEvents = getFilteredRunEvents(keystroke_df)\n",
    "    codingSessionDf = pd.DataFrame()\n",
    "    for student, assignment, _ in final_data:\n",
    "\n",
    "        # Get a dataframe with keystroke info for this (student,assignment), marked by coding sessions\n",
    "        codingSessionAssignmentDf = markEventsByCodingSessions(keystroke_df, student, assignment)\n",
    "\n",
    "        # Compute info for each coding session\n",
    "        oneCodingSessionInfoDf = getIndividualSessionInfo(codingSessionAssignmentDf)\n",
    "\n",
    "        if oneCodingSessionInfoDf is None:\n",
    "            continue\n",
    "\n",
    "        codingSessionDf = pd.concat([codingSessionDf, oneCodingSessionInfoDf], ignore_index=True)\n",
    "\n",
    "    return codingSessionDf\n",
    "\n",
    "\n",
    "def sessionInfoToAssignmentInfo(session_info_df):\n",
    "    '''\n",
    "    Convert a dataframe containing individual session info into a dataframe containing \n",
    "    info for all sessions on an assignment\n",
    "    '''\n",
    "\n",
    "    return session_info_df.groupby(\n",
    "        by=[SUBJECT_ID_KEY, ASSIGNMENT_ID_KEY]\n",
    "        ).agg({\n",
    "            SESSION_ID_KEY: 'count',\n",
    "            SESSION_TIME_KEY: 'sum',\n",
    "            SESSION_START_TIME_KEY: 'first',\n",
    "            SESSION_END_TIME_KEY: 'last',\n",
    "            SESSION_KEYSTROKES_KEY: 'sum',\n",
    "            SESSION_AVG_KEYDIFF_TIME_KEY: 'mean',\n",
    "        }).rename(\n",
    "            columns={\n",
    "                SESSION_ID_KEY: SESSION_COUNT_KEY,\n",
    "                SESSION_START_TIME_KEY: FIRST_SESSION_START_KEY,\n",
    "                SESSION_END_TIME_KEY: LAST_SESSION_END_KEY,\n",
    "                SESSION_TIME_KEY: TOTAL_ASSIGNMENT_TIME_KEY,\n",
    "                SESSION_KEYSTROKES_KEY: NUMBER_KEYSTROKES_KEY,\n",
    "                SESSION_AVG_KEYDIFF_TIME_KEY: AVG_KEYDIFF_TIME_KEY\n",
    "            }).reset_index()\n"
   ]
  },
  {
   "cell_type": "markdown",
   "metadata": {},
   "source": [
    "## Add MID Library\n",
    "\n",
    "- 0-2 Likely Incremental\n",
    "- 2-2.5 Somewhat Incremental\n",
    "- 2.5-3 Somewhat Non-Incremental\n",
    "- 3+ Likely Non-Incremental"
   ]
  },
  {
   "cell_type": "markdown",
   "metadata": {},
   "source": [
    "#### Calculate MID statistc for student and assignmemt"
   ]
  },
  {
   "cell_type": "code",
   "execution_count": null,
   "metadata": {},
   "outputs": [],
   "source": [
    "print(get_scores('Student10', 'Assign10', student_df))"
   ]
  },
  {
   "cell_type": "code",
   "execution_count": null,
   "metadata": {},
   "outputs": [],
   "source": [
    "mid_df = get_mid_score_all(final_data, student_df)"
   ]
  },
  {
   "cell_type": "code",
   "execution_count": null,
   "metadata": {},
   "outputs": [],
   "source": [
    "mid_df.to_csv('./data/mid_scores.csv', index=False)"
   ]
  },
  {
   "attachments": {},
   "cell_type": "markdown",
   "metadata": {},
   "source": [
    "## Code to get the time between runs"
   ]
  },
  {
   "cell_type": "code",
   "execution_count": null,
   "metadata": {},
   "outputs": [],
   "source": [
    "runEvents = getFilteredRunEvents(keystroke_df)"
   ]
  },
  {
   "cell_type": "code",
   "execution_count": null,
   "metadata": {},
   "outputs": [],
   "source": [
    "timeBetweenRunsDf = getTimeBetweenRunsDf(keystroke_df, final_data)"
   ]
  },
  {
   "cell_type": "code",
   "execution_count": null,
   "metadata": {},
   "outputs": [],
   "source": [
    "display(timeBetweenRunsDf)"
   ]
  },
  {
   "cell_type": "code",
   "execution_count": null,
   "metadata": {},
   "outputs": [],
   "source": [
    "timeBetweenRunsDf.to_csv('./data/timeBetweenRuns.csv', index=False)"
   ]
  },
  {
   "attachments": {},
   "cell_type": "markdown",
   "metadata": {},
   "source": [
    "## Get Coding Sessions\n",
    "#### Defined as keypresses within 5 minutes of eachother\n",
    "\n",
    "NOTE: The above may need to be double checked to ensure all keypresses are captured"
   ]
  },
  {
   "cell_type": "code",
   "execution_count": null,
   "metadata": {},
   "outputs": [],
   "source": [
    "codingSessions = getCodingSessionsDf(keystroke_df, final_data)"
   ]
  },
  {
   "cell_type": "code",
   "execution_count": null,
   "metadata": {},
   "outputs": [],
   "source": [
    "codingSessions.to_csv('./data/codingSessions.csv', index=False)"
   ]
  },
  {
   "cell_type": "code",
   "execution_count": null,
   "metadata": {},
   "outputs": [],
   "source": [
    "assignmentKeystrokeInfo = sessionInfoToAssignmentInfo(codingSessions)"
   ]
  },
  {
   "cell_type": "code",
   "execution_count": null,
   "metadata": {},
   "outputs": [],
   "source": [
    "assignmentKeystrokeInfo.to_csv('./data/assignmentKeystrokeInfo.csv', index=False)"
   ]
  }
 ],
 "metadata": {
  "kernelspec": {
   "display_name": "venv",
   "language": "python",
   "name": "python3"
  },
  "language_info": {
   "codemirror_mode": {
    "name": "ipython",
    "version": 3
   },
   "file_extension": ".py",
   "mimetype": "text/x-python",
   "name": "python",
   "nbconvert_exporter": "python",
   "pygments_lexer": "ipython3",
   "version": "3.10.10"
  },
  "vscode": {
   "interpreter": {
    "hash": "5e7cd3a884995e5ac0fa852e707a391ad35b963e757ae698c795d1558dfb018c"
   }
  }
 },
 "nbformat": 4,
 "nbformat_minor": 2
}
