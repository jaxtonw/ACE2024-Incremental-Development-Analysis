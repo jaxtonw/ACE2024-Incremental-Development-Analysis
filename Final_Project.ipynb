{
 "cells": [
  {
   "cell_type": "markdown",
   "metadata": {},
   "source": [
    "# Import All Necessary Modules And Setup Project\n",
    "\n",
    "If you get any errors when importing these, ensure you run the commands:\n",
    "```bash\n",
    "$ python -m pip install -r requirements.txt\n",
    "```\n",
    "to install all necessary modules for this project. This command must be run from inside of this project directory.\n",
    "\n",
    "It is recommended to use virtual environments for this project to ensure there is no conflicting package versions on your system.\n",
    "\n",
    "Activate the virtual environment (if needed), run the pip install command, and then launch Jupyter Lab inside this project to get this project running."
   ]
  },
  {
   "cell_type": "code",
   "execution_count": null,
   "metadata": {},
   "outputs": [],
   "source": [
    "# Uncomment the following line to execute the pip install\n",
    "# %pip install -r requirements.txt"
   ]
  },
  {
   "cell_type": "code",
   "execution_count": null,
   "metadata": {},
   "outputs": [],
   "source": [
    "import pandas as pd\n",
    "import numpy as np\n",
    "\n",
    "# Visualization\n",
    "from matplotlib import pyplot as plt\n",
    "import seaborn as sns\n",
    "\n",
    "from measure_incremental_development.compute import calculate_mid"
   ]
  },
  {
   "cell_type": "markdown",
   "metadata": {},
   "source": [
    "## Load Datasets"
   ]
  },
  {
   "cell_type": "code",
   "execution_count": null,
   "metadata": {},
   "outputs": [],
   "source": [
    "keystroke_df_unedited = pd.read_csv(\"data/keystrokes.csv\")\n",
    "student_df_unedited = pd.read_csv(\"data/students.csv\")"
   ]
  },
  {
   "attachments": {},
   "cell_type": "markdown",
   "metadata": {},
   "source": [
    "#### Copy Datasets For Modification\n",
    "\n",
    "This preserves the initial datasets, in case we ever need to bring an unedited column/row back into anything"
   ]
  },
  {
   "cell_type": "code",
   "execution_count": null,
   "metadata": {},
   "outputs": [],
   "source": [
    "keystroke_df = keystroke_df_unedited.copy()\n",
    "student_df = student_df_unedited.copy()"
   ]
  },
  {
   "attachments": {},
   "cell_type": "markdown",
   "metadata": {},
   "source": [
    "## Get DF Representing Single Student Submission And File"
   ]
  },
  {
   "cell_type": "code",
   "execution_count": null,
   "metadata": {},
   "outputs": [],
   "source": [
    "def getFileInStudentSubmission(df, student, assignment, fileName):\n",
    "    '''\n",
    "    Returns a dataframe that shows all submission data for a single file on a given assignment, for a given student\n",
    "\n",
    "    df - a dataframe of keystroke data\n",
    "    student - a string representing the SubjectID to filter by\n",
    "    assignment - a strinng representing the filename to filter by\n",
    "    fileName - the name of the file to filter by\n",
    "\n",
    "    Returns a COPY of the dataframe, containing only the selected student, assignment, and file\n",
    "    '''\n",
    "    f = df[\n",
    "          (df.SubjectID == student)\n",
    "        & (df.AssignmentID == assignment)\n",
    "        & (df.CodeStateSection == fileName)\n",
    "        ].copy()\n",
    "    return f"
   ]
  },
  {
   "cell_type": "code",
   "execution_count": null,
   "metadata": {},
   "outputs": [],
   "source": [
    "def getStudentSubmission(df, student, assignment):\n",
    "    '''\n",
    "    Returns a dataframe that shows all submission data for all files on a given assignment, for a given student\n",
    "\n",
    "    df - a dataframe of keystroke data\n",
    "    student - a string representing the SubjectID to filter by\n",
    "    assignment - a string representing the filename to filter by\n",
    "    \n",
    "    Returns a COPY of the dataframe, containing only the selected student and assignment\n",
    "    '''\n",
    "    f = df[\n",
    "          (df.SubjectID == student)\n",
    "        & (df.AssignmentID == assignment)\n",
    "        ].copy()\n",
    "\n",
    "    return f"
   ]
  },
  {
   "cell_type": "code",
   "execution_count": null,
   "metadata": {},
   "outputs": [],
   "source": [
    "def filterDownToRunAndEdits(df):\n",
    "    return df[(\n",
    "            (df.EventType == 'File.Edit')\n",
    "          | (df.EventType == 'Run.Program')\n",
    "          )]"
   ]
  },
  {
   "cell_type": "code",
   "execution_count": null,
   "metadata": {},
   "outputs": [],
   "source": [
    "def filterDownToRunAndEditsAndPastes(df):\n",
    "    return df[(\n",
    "            (df.EventType == 'File.Edit')\n",
    "          | (df.EventType == 'Run.Program')\n",
    "          | (df.EventType == 'X-Paste')\n",
    "          )]"
   ]
  },
  {
   "cell_type": "code",
   "execution_count": null,
   "metadata": {},
   "outputs": [],
   "source": [
    "def getStudentSubmissionRunsAndEdits(df, student, assignment):\n",
    "    '''\n",
    "    Returns a dataframe that shows all submission data for a given assignment, for a given student, with only run and edit events\n",
    "\n",
    "    df - a dataframe of keystroke data\n",
    "    student - a string representing the SubjectID to filter by\n",
    "    assignment - a strinng representing the filename to filter by\n",
    "    '''\n",
    "    return filterDownToRunAndEdits(getStudentSubmission(df, student, assignment))"
   ]
  },
  {
   "cell_type": "code",
   "execution_count": null,
   "metadata": {},
   "outputs": [],
   "source": [
    "def getFileInStudentSubmissionRunsAndEdits(df, student, assignment, fileName):\n",
    "    '''\n",
    "    Returns a dataframe that shows all submission data for a single file on a given assignment, for a given student, with only run and edit events\n",
    "\n",
    "    df - a dataframe of keystroke data\n",
    "    student - a string representing the SubjectID to filter by\n",
    "    assignment - a strinng representing the filename to filter by\n",
    "    fileName - the name of the file to filter by\n",
    "    '''\n",
    "\n",
    "    return filterDownToRunAndEdits(getFileInStudentSubmission(df, student, assignment, fileName))"
   ]
  },
  {
   "attachments": {},
   "cell_type": "markdown",
   "metadata": {},
   "source": [
    "## Reconstruct Submissions"
   ]
  },
  {
   "cell_type": "code",
   "execution_count": null,
   "metadata": {},
   "outputs": [],
   "source": [
    "def reconstructSingleFileDebugger(df):\n",
    "    '''\n",
    "    See a submission as it gets reconstructed, ignoring the Run events\n",
    "\n",
    "    This is used primarily for debugging\n",
    "    '''\n",
    "\n",
    "    s = ''\n",
    "\n",
    "    fileStateCount = 0\n",
    "    for _,row in df[df.EventType=='File.Edit'].iterrows():\n",
    "        i = int(row.SourceLocation)\n",
    "        fileLengthRn = len(s)\n",
    "        if i > fileLengthRn:\n",
    "            print(\"DEBUG: Woah buddy, your cursor is out of bounds\")\n",
    "\n",
    "\n",
    "        insert = '' if pd.isna(row.InsertText) else row.InsertText\n",
    "        delete = '' if pd.isna(row.DeleteText) else row.DeleteText\n",
    "        s = s[:i] + insert + s[i+len(delete):]\n",
    "\n",
    "        print(f\"\"\"\\\n",
    "================\n",
    "StateNo : {fileStateCount}\n",
    "{i=}\n",
    "{insert=}\n",
    "{delete=}\n",
    "{row.EventID=}\n",
    "================\n",
    "{s}\n",
    "\"\"\")\n",
    "        fileStateCount += 1\n",
    "\n",
    "    return s"
   ]
  },
  {
   "cell_type": "code",
   "execution_count": null,
   "metadata": {},
   "outputs": [],
   "source": [
    "def reconstructFinalFile(df):\n",
    "    '''\n",
    "    Reconstruct a single file\n",
    "\n",
    "    df - A dataframe containing a single student, for a single assignment, \n",
    "            and a single file of that assignment\n",
    "\n",
    "    Returns: A string representing the final state of the file\n",
    "    '''\n",
    "\n",
    "    s = ''\n",
    "\n",
    "    for _,row in df[df.EventType=='File.Edit'].iterrows():\n",
    "        i = int(row.SourceLocation)\n",
    "\n",
    "        insert = '' if pd.isna(row.InsertText) else row.InsertText\n",
    "        delete = '' if pd.isna(row.DeleteText) else row.DeleteText\n",
    "        s = s[:i] + insert + s[i+len(delete):]\n",
    "    \n",
    "    return s"
   ]
  },
  {
   "cell_type": "code",
   "execution_count": null,
   "metadata": {},
   "outputs": [],
   "source": [
    "def reconstructFileAtRunEvents(df):\n",
    "    '''\n",
    "    Reconstruct a single file and save it's state at different run events\n",
    "\n",
    "    df - A dataframe containing a single student, for a single assignment, \n",
    "            and a single file of that assignment. Must have edit events and run events\n",
    "\n",
    "    Returns: A list containing strings representing the various states of the file at different run events\n",
    "    '''\n",
    "\n",
    "    fileStateAtRuns = []\n",
    "\n",
    "    s = ''\n",
    "\n",
    "    for _,row in df.iterrows():\n",
    "        if row.EventType == 'File.Edit':\n",
    "            i = int(row.SourceLocation)\n",
    "\n",
    "            insert = '' if pd.isna(row.InsertText) else row.InsertText\n",
    "            delete = '' if pd.isna(row.DeleteText) else row.DeleteText\n",
    "            s = s[:i] + insert + s[i+len(delete):]\n",
    "        elif row.EventType == 'Run.Program':\n",
    "            fileStateAtRuns.append(s)\n",
    "\n",
    "    fileStateAtRuns.append(s)\n",
    "\n",
    "    return fileStateAtRuns"
   ]
  },
  {
   "cell_type": "code",
   "execution_count": null,
   "metadata": {},
   "outputs": [],
   "source": [
    "def reconstructProjectAtRunEvents(df):\n",
    "    '''\n",
    "    Reconstruct a whole project and save it's state at different run events\n",
    "\n",
    "    df - A dataframe containing a single student, for a single assignment, \n",
    "            and one+ files. Must have edit events and run events\n",
    "\n",
    "    Returns: A dictionary containing keys for each file name, with values that are a list\n",
    "                of strings, representing each file state at different run events\n",
    "\n",
    "    NOTE: Some files may always be empty in their states. This happens when students make meaningful \n",
    "            edits to files, but delete it's contents before running their code\n",
    "    '''\n",
    "\n",
    "    # Remove NaN edit events to ensure that only meaningful edits are logged\n",
    "    df = df[\n",
    "          ( df.EventType != 'File.Edit' )\n",
    "          | ( ( df.EventType == 'File.Edit' )\n",
    "            & ~ ( ( pd.isna(df.InsertText) ) \n",
    "                & ( pd.isna(df.DeleteText) ) \n",
    "                )\n",
    "              )\n",
    "        ]\n",
    "\n",
    "    allFileNames = df.CodeStateSection.unique()\n",
    "    \n",
    "    fileStates = dict()\n",
    "    currentFileContents = dict()\n",
    "    # Setup the fileStates dictionary for every file and the currentFileContents for each file\n",
    "    for fileName in allFileNames:\n",
    "        fileStates[fileName] = []\n",
    "        currentFileContents[fileName] = ''\n",
    "\n",
    "    for _,row in df.iterrows():\n",
    "        if row.EventType == 'File.Edit':\n",
    "            # Get the name of the file that was just edited\n",
    "            thisFileName = row.CodeStateSection\n",
    "\n",
    "            # Get edit information\n",
    "            i = int(row.SourceLocation)\n",
    "            insert = '' if pd.isna(row.InsertText) else row.InsertText\n",
    "            delete = '' if pd.isna(row.DeleteText) else row.DeleteText\n",
    "\n",
    "            # Make the edit and save the current state of the file\n",
    "            s = currentFileContents[thisFileName]\n",
    "            s = s[:i] + insert + s[i+len(delete):]\n",
    "            currentFileContents[thisFileName] = s\n",
    "            \n",
    "        elif row.EventType == 'Run.Program':\n",
    "            # Save all files at their current states\n",
    "\n",
    "            # We only want to save when a run is started\n",
    "            if row['X-Metadata'] != 'Start': continue\n",
    "\n",
    "            for fileName in allFileNames:\n",
    "                fileStates[fileName].append(currentFileContents[fileName])\n",
    "\n",
    "    # Save all files at their final states\n",
    "    for fileName in allFileNames:\n",
    "        fileStates[fileName].append(currentFileContents[fileName])\n",
    "\n",
    "    return fileStates"
   ]
  },
  {
   "attachments": {},
   "cell_type": "markdown",
   "metadata": {},
   "source": [
    "#### View Reconstructed Project"
   ]
  },
  {
   "cell_type": "code",
   "execution_count": null,
   "metadata": {},
   "outputs": [],
   "source": [
    "def viewFinalReconstructedProject(reconstructedFiles):\n",
    "    '''\n",
    "    View the final file states that get reconstructed\n",
    "\n",
    "    reconstructedFiles : A dictionary containing filenames as keys and a list\n",
    "        of said file at various states\n",
    "\n",
    "    Returns nothing, prints to the console\n",
    "    '''\n",
    "\n",
    "    for fileName in sorted(reconstructedFiles.keys()):\n",
    "        print(40*\"=\")\n",
    "        print(f\"file = {fileName}\")\n",
    "        print(40*\"=\")\n",
    "        print(reconstructedFiles[fileName][-1])"
   ]
  },
  {
   "cell_type": "code",
   "execution_count": null,
   "metadata": {},
   "outputs": [],
   "source": [
    "def viewReconstructedProjectStates(reconstructedFiles):\n",
    "    '''\n",
    "    View the project at all the different run states that get reconstructed\n",
    "\n",
    "    reconstructedFiles : A dictionary containing filenames as keys and a list\n",
    "        of said file at various states\n",
    "\n",
    "    Returns nothing, prints to the console\n",
    "    '''\n",
    "    numberOfStates = len(reconstructedFiles[reconstructedFiles.keys()[0]])\n",
    "\n",
    "    for stateNo in range(numberOfStates):\n",
    "        print(\"v\" * 40)\n",
    "        print(f\"Project State : {stateNo if stateNo != numberOfStates - 1 else 'FINAL'}\")\n",
    "        print(\"^\" * 40)\n",
    "        for fileName in sorted(reconstructedFiles.keys()):\n",
    "            print(40*\"=\")\n",
    "            print(f\"file = {fileName}\")\n",
    "            print(40*\"=\")\n",
    "            print(reconstructedFiles[fileName][stateNo])"
   ]
  },
  {
   "cell_type": "code",
   "execution_count": null,
   "metadata": {},
   "outputs": [],
   "source": [
    "student10df = getFileInStudentSubmissionRunsAndEdits(\n",
    "    keystroke_df, \n",
    "    'Student10',\n",
    "    'Assign10',\n",
    "    'wordinator.py'\n",
    "    )"
   ]
  },
  {
   "cell_type": "code",
   "execution_count": null,
   "metadata": {},
   "outputs": [],
   "source": [
    "student10FileStates = reconstructFileAtRunEvents(student10df)\n",
    "\n",
    "for i,fileState in enumerate(student10FileStates): \n",
    "    print(\"=\"*40)\n",
    "    print(f\"File State : {i}\")\n",
    "    print(\"=\"*40)\n",
    "    print(fileState)"
   ]
  },
  {
   "cell_type": "code",
   "execution_count": null,
   "metadata": {},
   "outputs": [],
   "source": [
    "student36df = getStudentSubmissionRunsAndEdits(\n",
    "    keystroke_df, \n",
    "    'Student36',\n",
    "    'Assign10',\n",
    "    )"
   ]
  },
  {
   "cell_type": "code",
   "execution_count": null,
   "metadata": {},
   "outputs": [],
   "source": [
    "display(student_df)"
   ]
  },
  {
   "cell_type": "code",
   "execution_count": null,
   "metadata": {},
   "outputs": [],
   "source": [
    "student36FileStates = reconstructProjectAtRunEvents(student36df)\n",
    "viewFinalReconstructedFiles(student36FileStates)"
   ]
  },
  {
   "attachments": {},
   "cell_type": "markdown",
   "metadata": {},
   "source": [
    "## Add MID Library\n",
    "\n",
    "- 0-2 Likely Incremental\n",
    "- 2-2.5 Somewhat Incremental\n",
    "- 2.5-3 Somewhat Non-Incremental\n",
    "- 3+ Likely Non-Incremental"
   ]
  },
  {
   "attachments": {},
   "cell_type": "markdown",
   "metadata": {},
   "source": [
    "#### Calculate MID statistc for student and assignmemt"
   ]
  },
  {
   "cell_type": "code",
   "execution_count": null,
   "metadata": {},
   "outputs": [],
   "source": [
    "SUBJECT_ID_KEY = 'SubjectID'\n",
    "ASSIGNMENT_ID_KEY = 'AssignmentID'\n",
    "ASSIGNMENT_FILE_KEY = 'File'\n",
    "MID_SCORE_KEY = 'MID_Score'\n",
    "INCREMENTAL_KEY = 'Incremental' # boolean key in df, <=2.5 Incremental, >2.5 Non-Incremental"
   ]
  },
  {
   "cell_type": "code",
   "execution_count": null,
   "metadata": {},
   "outputs": [],
   "source": [
    "def remove_empty_at_start(file_states):\n",
    "    '''\n",
    "    Function to remove empty strings at beginning of list\n",
    "\n",
    "    file_states: list of file states\n",
    "\n",
    "    returns a clean list\n",
    "    '''\n",
    "    index = -1\n",
    "    for i in range(len(file_states)):\n",
    "        if file_states[i] != '':\n",
    "            index = i\n",
    "            break\n",
    "    if index > -1:\n",
    "        return file_states[index:]\n",
    "    return file_states"
   ]
  },
  {
   "cell_type": "code",
   "execution_count": null,
   "metadata": {},
   "outputs": [],
   "source": [
    "# Test for fun\n",
    "fake_file_states = ['', '', '', 'fake', 'fake1', 'fake2', '', '', '']\n",
    "clean_fake_file_states = remove_empty_at_start(fake_file_states)\n",
    "print(fake_file_states)\n",
    "print(clean_fake_file_states)"
   ]
  },
  {
   "cell_type": "code",
   "execution_count": null,
   "metadata": {},
   "outputs": [],
   "source": [
    "def get_mid_score_combo(single_student_df):\n",
    "    '''\n",
    "    Get a final mid score for multiple a combination of tasks in an assignment\n",
    "     for a student\n",
    "\n",
    "    single_student_df - A dataframe containing a single student, for a single assignment, \n",
    "            and one+ files. Must have edit events and run events\n",
    "\n",
    "    Returns: A numerical value containing the mid score\n",
    "    '''\n",
    "    all_file_states = []\n",
    "    file_states = reconstructProjectAtRunEvents(single_student_df)\n",
    "    for file, state in file_states.items():\n",
    "        # remove empty strings at beginning of list\n",
    "        clean_state = remove_empty_at_start(state)\n",
    "        all_file_states += clean_state\n",
    "    return calculate_mid(all_file_states)"
   ]
  },
  {
   "cell_type": "code",
   "execution_count": null,
   "metadata": {},
   "outputs": [],
   "source": [
    "single_student_df = getStudentSubmissionRunsAndEdits(keystroke_df,\n",
    "                                              'Student10',\n",
    "                                              'Assign10')\n",
    "\n",
    "\n",
    "mid_score_combo = get_mid_score_combo(single_student_df)\n",
    "\n",
    "print(mid_score_combo)"
   ]
  },
  {
   "cell_type": "code",
   "execution_count": null,
   "metadata": {},
   "outputs": [],
   "source": [
    "def get_mid_score_dict(single_student_df):\n",
    "    '''\n",
    "    Get a dictionary containing file in assignment and mid score for a student\n",
    "\n",
    "    single_student_df - A dataframe containing a single student, for a single assignment, \n",
    "            and one+ files. Must have edit events and run events\n",
    "\n",
    "    Returns: A dictionary containing keys for each file name, with a numerical value\n",
    "    containing the mid score\n",
    "    '''\n",
    "    file_mid_dict = dict()\n",
    "    # save a dictionary for each file and the mid score\n",
    "    file_states = reconstructProjectAtRunEvents(single_student_df)\n",
    "    for file, state in file_states.items():\n",
    "        # remove empty strings at beginning of list\n",
    "        clean_state = remove_empty_at_start(state)\n",
    "        file_mid_dict[file] = calculate_mid(clean_state)\n",
    "    return file_mid_dict"
   ]
  },
  {
   "cell_type": "code",
   "execution_count": null,
   "metadata": {},
   "outputs": [],
   "source": [
    "single_student_df = getStudentSubmissionRunsAndEdits(keystroke_df,\n",
    "                                              'Student10',\n",
    "                                              'Assign10')\n",
    "\n",
    "\n",
    "mid_score_dict = get_mid_score_dict(single_student_df)\n",
    "\n",
    "print(mid_score_dict)"
   ]
  },
  {
   "cell_type": "code",
   "execution_count": null,
   "metadata": {},
   "outputs": [],
   "source": [
    "# TODO add mid score for concatenated assignment tasks"
   ]
  },
  {
   "cell_type": "code",
   "execution_count": null,
   "metadata": {},
   "outputs": [],
   "source": [
    "def get_mid_score_row(student, assignment, file, mid_score):\n",
    "    '''\n",
    "    Get a dictionary containing necessary information to build a row\n",
    "    in the student dataframe with MID score\n",
    "    \n",
    "    student - a string representing the SubjectID to filter by\n",
    "    assignment - a strinng representing the filename to filter by\n",
    "    file - the name of the file in assignment\n",
    "    \n",
    "    Returns: A dictionary containing student, assignment, file, mid score\n",
    "    and whether or not the returned score is incremental or not\n",
    "    '''\n",
    "    return {\n",
    "        SUBJECT_ID_KEY: student,\n",
    "        ASSIGNMENT_ID_KEY: assignment,\n",
    "        ASSIGNMENT_FILE_KEY: file,\n",
    "        MID_SCORE_KEY: mid_score,\n",
    "        INCREMENTAL_KEY: 0 if mid_score > 2.5 else 1\n",
    "    }\n"
   ]
  },
  {
   "cell_type": "code",
   "execution_count": null,
   "metadata": {},
   "outputs": [],
   "source": [
    "def get_student_mid_score_df(single_student_df):\n",
    "    '''\n",
    "    Creates a dataframe for a student, assignment, file and \n",
    "    the incremental information\n",
    "\n",
    "    single_student_df - A dataframe containing a single student, for a single assignment, \n",
    "        and a single file of that assignment. Must have edit events and run events\n",
    "\n",
    "    Returns: A dataframe for the specified student containing the mid score\n",
    "    and whether or not the student used incremental development\n",
    "    '''\n",
    "    df = pd.DataFrame(columns=[SUBJECT_ID_KEY, ASSIGNMENT_ID_KEY, ASSIGNMENT_FILE_KEY, MID_SCORE_KEY, INCREMENTAL_KEY])\n",
    "\n",
    "    mid_score_dict = get_mid_score_dict(single_student_df)\n",
    "\n",
    "    for file_name, mid_score in mid_score_dict.items():\n",
    "        df_row = pd.DataFrame(get_mid_score_row(single_student_df[SUBJECT_ID_KEY].unique(), single_student_df[ASSIGNMENT_ID_KEY].unique(), file_name, mid_score))\n",
    "        df = pd.concat([df, df_row], ignore_index=False)\n",
    "    return df"
   ]
  },
  {
   "cell_type": "code",
   "execution_count": null,
   "metadata": {},
   "outputs": [],
   "source": [
    "student_mid_df = get_student_mid_score_df(single_student_df)\n",
    "display(student_mid_df)"
   ]
  },
  {
   "cell_type": "code",
   "execution_count": null,
   "metadata": {},
   "outputs": [],
   "source": [
    "def get_keystroke_mid_score_df(keystroke_df, students, assignments):\n",
    "    '''\n",
    "    Creates a dataframe for specified students and assignments containing\n",
    "    incremental information\n",
    "\n",
    "    keystroke_df - a dataframe of keystroke data\n",
    "    students - a list of strings representing the SubjectIDs to filter by\n",
    "    assignment - a list strings representing the assignment to filter by\n",
    "\n",
    "    Returns: A dataframe for the specified students and assignments containing \n",
    "    the mid score and whether or not the student used incremental development\n",
    "    '''\n",
    "    keystroke_mid_score_df = pd.DataFrame()\n",
    "    for student in students:\n",
    "        for assignment in assignments:\n",
    "            single_student_df = getStudentSubmissionRunsAndEdits(keystroke_df,\n",
    "                                              student,\n",
    "                                              assignment)\n",
    "            df = get_student_mid_score_df(single_student_df)\n",
    "            keystroke_mid_score_df = pd.concat([keystroke_mid_score_df, df], ignore_index=True)\n",
    "    return keystroke_mid_score_df"
   ]
  },
  {
   "cell_type": "code",
   "execution_count": null,
   "metadata": {},
   "outputs": [],
   "source": [
    "def get_all_keystroke_mid_score_df(keystroke_df):\n",
    "    '''\n",
    "    Creates a dataframe for all students and assignments containing\n",
    "    incremental information\n",
    "\n",
    "    keystroke_df - a dataframe of keystroke data\n",
    "\n",
    "    Returns: A dataframe for the students and assignments containing \n",
    "    the mid score and whether or not the student used incremental development\n",
    "    '''\n",
    "    return get_keystroke_mid_score_df(keystroke_df, keystroke_df[SUBJECT_ID_KEY].unique(), keystroke_df[ASSIGNMENT_ID_KEY].unique())"
   ]
  },
  {
   "cell_type": "code",
   "execution_count": null,
   "metadata": {},
   "outputs": [],
   "source": [
    "# Doesn't work wahhhh :( \n",
    "# display(get_all_keystroke_mid_score_df(keystroke_df))"
   ]
  },
  {
   "cell_type": "code",
   "execution_count": null,
   "metadata": {},
   "outputs": [],
   "source": [
    "all_students = keystroke_df[SUBJECT_ID_KEY].unique()\n",
    "all_assignments = keystroke_df[ASSIGNMENT_ID_KEY].unique()\n",
    "print(all_students)\n",
    "print(all_assignments)"
   ]
  },
  {
   "cell_type": "code",
   "execution_count": null,
   "metadata": {},
   "outputs": [],
   "source": [
    "key_stroke_mid_score_df = get_keystroke_mid_score_df(keystroke_df, ['Student10', 'Student36'], ['Assign10', 'Assign12'])\n",
    "display(key_stroke_mid_score_df)"
   ]
  },
  {
   "cell_type": "code",
   "execution_count": null,
   "metadata": {},
   "outputs": [],
   "source": [
    "FINAL_SCORE_KEY = 'FinalScore'\n",
    "SCORE_KEY = 'Score'"
   ]
  },
  {
   "cell_type": "code",
   "execution_count": null,
   "metadata": {},
   "outputs": [],
   "source": [
    "def get_scores(student, assignment, student_df):\n",
    "    '''\n",
    "    Get the score the student got on the specified student\n",
    "\n",
    "    student: a string representing the SubjectID\n",
    "    assignment: a string representing the Assignment\n",
    "    student_df: a df containing the students grades\n",
    "\n",
    "    Returns: a dictionary of the student's score for the specified assignment, \n",
    "    and final score\n",
    "    None if there is no \n",
    "    '''\n",
    "    # TODO Maybe we want to add more scores, we can do that here\n",
    "    scores = dict()\n",
    "    if student in student_df[SUBJECT_ID_KEY].unique():\n",
    "        row_loc = student_df.loc[student_df[SUBJECT_ID_KEY] == student]\n",
    "        if assignment in row_loc:\n",
    "            scores[SCORE_KEY] = row_loc[assignment].values[0]\n",
    "            scores[FINAL_SCORE_KEY] = row_loc[FINAL_SCORE_KEY].values[0]\n",
    "    return scores"
   ]
  },
  {
   "cell_type": "code",
   "execution_count": null,
   "metadata": {},
   "outputs": [],
   "source": [
    "print(get_scores('Student10', 'Assign10', student_df))"
   ]
  },
  {
   "cell_type": "code",
   "execution_count": null,
   "metadata": {},
   "outputs": [],
   "source": [
    "def get_avg_mid_score(student, assignment, mid_score_df):\n",
    "    '''\n",
    "    Get the average mid score for a students assignment\n",
    "    This will be the average of the mid scores for each\n",
    "    file of each assignment\n",
    "\n",
    "    student: a string representing the SubjectID\n",
    "    assignment: a string representing the Assignment\n",
    "    mid_score_df: a df containing the mid score for each assignment\n",
    "    file for each student\n",
    "    '''\n",
    "    \n",
    "    pass"
   ]
  }
 ],
 "metadata": {
  "kernelspec": {
   "display_name": "venv",
   "language": "python",
   "name": "python3"
  },
  "language_info": {
   "codemirror_mode": {
    "name": "ipython",
    "version": 3
   },
   "file_extension": ".py",
   "mimetype": "text/x-python",
   "name": "python",
   "nbconvert_exporter": "python",
   "pygments_lexer": "ipython3",
   "version": "3.10.8"
  },
  "vscode": {
   "interpreter": {
    "hash": "07ae73d8d6124c5eb4a36a8cd40b089dc63da2c02d3d7f8d7bd96e8acccf4263"
   }
  }
 },
 "nbformat": 4,
 "nbformat_minor": 2
}
