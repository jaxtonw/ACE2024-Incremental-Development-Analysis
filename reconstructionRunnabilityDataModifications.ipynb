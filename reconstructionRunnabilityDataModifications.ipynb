{
 "cells": [
  {
   "cell_type": "markdown",
   "metadata": {},
   "source": [
    "# Import All Necessary Modules And Setup Project\n",
    "\n",
    "If you get any errors when importing these, ensure you run the commands:\n",
    "```bash\n",
    "$ python -m pip install -r requirements.txt\n",
    "```\n",
    "to install all necessary modules for this project. This command must be run from inside of this project directory.\n",
    "\n",
    "It is recommended to use virtual environments for this project to ensure there is no conflicting package versions on your system.\n",
    "\n",
    "Activate the virtual environment (if needed), run the pip install command, and then launch Jupyter Lab inside this project to get this project running."
   ]
  },
  {
   "cell_type": "code",
   "execution_count": null,
   "metadata": {},
   "outputs": [],
   "source": [
    "import pandas as pd\n"
   ]
  },
  {
   "attachments": {},
   "cell_type": "markdown",
   "metadata": {},
   "source": [
    "## Define Constants"
   ]
  },
  {
   "cell_type": "code",
   "execution_count": null,
   "metadata": {},
   "outputs": [],
   "source": [
    "OUTPUT_FILE = 'data/reconstructionRunnability.csv'\n",
    "\n",
    "STUDENT_COL = 'Student'\n",
    "ASSN_COL = 'Assignment'\n",
    "FILE_COL = 'FileName'\n",
    "EXECUTION_COL = 'ExecutionState'\n",
    "\n",
    "# File successfully ran\n",
    "EC_SUCCESS = 0\n",
    "# File had an indentation or syntax error, probably bad reconstruction\n",
    "EC_IND_OR_STX_ERR = 1\n",
    "# File had an import error\n",
    "#   Most likely because the 'modules' directory doesn't exist\n",
    "#   Possibly due to reconstruction error\n",
    "EC_IMPORT_ERR = 2\n",
    "# Some other error occurred, and we really need to do some digging to figure this out\n",
    "EC_OTHER_ERR = 3"
   ]
  },
  {
   "attachments": {},
   "cell_type": "markdown",
   "metadata": {},
   "source": [
    "## Load Data"
   ]
  },
  {
   "cell_type": "code",
   "execution_count": null,
   "metadata": {},
   "outputs": [],
   "source": [
    "reconstruction_runnability_df_uneditied = pd.read_csv('data/reconstructionRunnabilityOriginal.csv')"
   ]
  },
  {
   "cell_type": "code",
   "execution_count": null,
   "metadata": {},
   "outputs": [],
   "source": [
    "reconstruction_runnability_df = reconstruction_runnability_df_uneditied.copy()"
   ]
  },
  {
   "cell_type": "code",
   "execution_count": null,
   "metadata": {},
   "outputs": [],
   "source": [
    "reconstruction_runnability_df[EXECUTION_COL].value_counts()"
   ]
  },
  {
   "attachments": {},
   "cell_type": "markdown",
   "metadata": {},
   "source": [
    "#### Check All Import Errors\n",
    "\n",
    "After checking all import errors, it was found that the import errors were *actual* import errors, and not due to bad reconstructions. These can all be converted into `0`, indicating a successful reconstruction!"
   ]
  },
  {
   "cell_type": "code",
   "execution_count": null,
   "metadata": {},
   "outputs": [],
   "source": [
    "reconstruction_runnability_df[EXECUTION_COL] = reconstruction_runnability_df[EXECUTION_COL].apply(lambda x: 0 if x == 2 else x)"
   ]
  },
  {
   "attachments": {},
   "cell_type": "markdown",
   "metadata": {},
   "source": [
    "## List All Broken Files"
   ]
  },
  {
   "cell_type": "code",
   "execution_count": null,
   "metadata": {},
   "outputs": [],
   "source": [
    "syntax_errs = reconstruction_runnability_df[reconstruction_runnability_df[EXECUTION_COL] == EC_IND_OR_STX_ERR]\n",
    "other_errs = reconstruction_runnability_df[reconstruction_runnability_df[EXECUTION_COL] == EC_OTHER_ERR]\n"
   ]
  },
  {
   "cell_type": "code",
   "execution_count": null,
   "metadata": {},
   "outputs": [],
   "source": [
    "syntax_errs[STUDENT_COL].value_counts()"
   ]
  },
  {
   "cell_type": "code",
   "execution_count": null,
   "metadata": {},
   "outputs": [],
   "source": [
    "other_errs[STUDENT_COL].value_counts()\n"
   ]
  },
  {
   "attachments": {},
   "cell_type": "markdown",
   "metadata": {},
   "source": [
    "#### Syntax Errors List\n",
    "\n",
    "These errors are *probably* due to bad reconstructions, but some may be because of students making mistakes. We need to quickly analyze these, and remove any bad reconstructions from our dataset."
   ]
  },
  {
   "cell_type": "code",
   "execution_count": null,
   "metadata": {},
   "outputs": [],
   "source": [
    "print(\"Syntax Errors:\")\n",
    "for idx,row in syntax_errs.iterrows():\n",
    "    print(row[STUDENT_COL], row[ASSN_COL], row[FILE_COL])"
   ]
  },
  {
   "attachments": {},
   "cell_type": "markdown",
   "metadata": {},
   "source": [
    "#### Other Errors List\n",
    "\n",
    "These errors are *probably* due to other issues in the student's code. We probably want these in our dataset, but should at least verify that they are not broken due to our reconstructions."
   ]
  },
  {
   "cell_type": "code",
   "execution_count": null,
   "metadata": {},
   "outputs": [],
   "source": [
    "print(\"Other Errors:\")\n",
    "for idx,row in other_errs.iterrows():\n",
    "    print(row[STUDENT_COL], row[ASSN_COL], row[FILE_COL])"
   ]
  },
  {
   "attachments": {},
   "cell_type": "markdown",
   "metadata": {},
   "source": [
    "## Save File\n",
    "\n",
    "Save the dataframe into a `.csv` file."
   ]
  },
  {
   "cell_type": "code",
   "execution_count": null,
   "metadata": {},
   "outputs": [],
   "source": [
    "reconstruction_runnability_df.to_csv(OUTPUT_FILE)"
   ]
  }
 ],
 "metadata": {
  "kernelspec": {
   "display_name": "venv",
   "language": "python",
   "name": "python3"
  },
  "language_info": {
   "codemirror_mode": {
    "name": "ipython",
    "version": 3
   },
   "file_extension": ".py",
   "mimetype": "text/x-python",
   "name": "python",
   "nbconvert_exporter": "python",
   "pygments_lexer": "ipython3",
   "version": "3.10.10"
  },
  "vscode": {
   "interpreter": {
    "hash": "5e7cd3a884995e5ac0fa852e707a391ad35b963e757ae698c795d1558dfb018c"
   }
  }
 },
 "nbformat": 4,
 "nbformat_minor": 2
}
